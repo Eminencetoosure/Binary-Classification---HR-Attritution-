{
 "cells": [
  {
   "cell_type": "markdown",
   "metadata": {
    "id": "PJ5vtpmL1kMP"
   },
   "source": [
    "# HR Employee Attrition Analysis and Modelling"
   ]
  },
  {
   "cell_type": "markdown",
   "metadata": {},
   "source": [
    "Importing libraries"
   ]
  },
  {
   "cell_type": "code",
   "execution_count": null,
   "metadata": {},
   "outputs": [],
   "source": [
    "import warnings\n",
    "import numpy as np\n",
    "import pandas as pd\n",
    "import datetime as dt\n",
    "import seaborn as sns\n",
    "from sklearn import svm\n",
    "import missingno as msno\n",
    "import plotly.express as px\n",
    "import matplotlib.pyplot as plt\n",
    "from sklearn.model_selection import TimeSeriesSplit\n",
    "from sklearn.model_selection import train_test_split\n",
    "from sklearn.metrics import confusion_matrix\n",
    "from sklearn import datasets\n",
    "from sklearn.metrics import accuracy_score\n",
    "\n",
    "warnings.filterwarnings('ignore')\n",
    "plt.style.use('ggplot')\n",
    "\n",
    "%matplotlib inline\n",
    "%config InlineBackend.figure_format = 'retina'"
   ]
  },
  {
   "cell_type": "markdown",
   "metadata": {
    "id": "jQLHZU5a1kMT"
   },
   "source": [
    "Reading the dataset"
   ]
  },
  {
   "cell_type": "code",
   "execution_count": null,
   "metadata": {},
   "outputs": [],
   "source": [
    "data_cap = pd.read_csv(\"HR_Employee_Attrition_Data.csv\")"
   ]
  },
  {
   "cell_type": "code",
   "execution_count": null,
   "metadata": {
    "colab": {
     "base_uri": "https://localhost:8080/",
     "height": 369
    },
    "id": "xRO_Hm5r1kMT",
    "outputId": "b9bdfbde-e6d8-4887-fc6e-14ba6bc3929a"
   },
   "outputs": [],
   "source": [
    "data_cap.head()"
   ]
  },
  {
   "cell_type": "code",
   "execution_count": null,
   "metadata": {
    "colab": {
     "base_uri": "https://localhost:8080/"
    },
    "id": "ugpl3uwR1kMU",
    "outputId": "3d4597b5-6993-4b60-e5b3-49b68151c4e5"
   },
   "outputs": [],
   "source": [
    "#checking the shape of the data\n",
    "data_cap.shape"
   ]
  },
  {
   "cell_type": "code",
   "execution_count": null,
   "metadata": {
    "colab": {
     "base_uri": "https://localhost:8080/"
    },
    "id": "gMpGzJcr1kMU",
    "outputId": "febacf74-025f-41b8-d1cc-1955e4dd3dea"
   },
   "outputs": [],
   "source": [
    "#checking for dtypes\n",
    "data_cap.dtypes"
   ]
  },
  {
   "cell_type": "markdown",
   "metadata": {
    "id": "UtdJg8Pj1kMV"
   },
   "source": [
    "## Exploratory data analysis"
   ]
  },
  {
   "cell_type": "code",
   "execution_count": null,
   "metadata": {},
   "outputs": [],
   "source": [
    "data_cap.hist(bins=50, figsize=(20,15),grid=False)\n",
    "plt.show()"
   ]
  },
  {
   "cell_type": "code",
   "execution_count": null,
   "metadata": {},
   "outputs": [],
   "source": [
    "# Let's make our correlation matrix visual\n",
    "corr_matrix=data_cap.corr()\n",
    "fig,ax=plt.subplots(figsize=(15,10))\n",
    "ax=sns.heatmap(corr_matrix,\n",
    "               annot=True,\n",
    "               linewidths=0.5,\n",
    "               fmt=\".2f\"\n",
    "              )"
   ]
  },
  {
   "cell_type": "code",
   "execution_count": null,
   "metadata": {
    "colab": {
     "base_uri": "https://localhost:8080/"
    },
    "id": "IbNm7wUc1kMV",
    "outputId": "7a25b9c4-19b3-431c-fe26-e64b94224ab1"
   },
   "outputs": [],
   "source": [
    "#check if there are any null values\n",
    "data_cap.isnull().sum()"
   ]
  },
  {
   "cell_type": "markdown",
   "metadata": {},
   "source": [
    "There is no null value"
   ]
  },
  {
   "cell_type": "code",
   "execution_count": null,
   "metadata": {},
   "outputs": [],
   "source": [
    "data_cap.shape"
   ]
  },
  {
   "cell_type": "markdown",
   "metadata": {},
   "source": [
    "# Now let’s visualize some categorica data"
   ]
  },
  {
   "cell_type": "markdown",
   "metadata": {},
   "source": [
    "Let’s explore all the categorical values and visualize them\n",
    "Now, we will use the value_counts function so that we can get the unique values from every categorical type of data.\n",
    "\n",
    "Gender"
   ]
  },
  {
   "cell_type": "code",
   "execution_count": null,
   "metadata": {},
   "outputs": [],
   "source": [
    "gender_dict = data_cap[\"Gender\"].value_counts()\n",
    "gender_dict"
   ]
  },
  {
   "cell_type": "markdown",
   "metadata": {},
   "source": [
    "Understanding the balancing of the Gender column visually"
   ]
  },
  {
   "cell_type": "code",
   "execution_count": null,
   "metadata": {
    "scrolled": true
   },
   "outputs": [],
   "source": [
    "data_cap['Gender'].value_counts().plot(kind='bar',color=['salmon','lightblue'],title=\"Count of different gender\")"
   ]
  },
  {
   "cell_type": "markdown",
   "metadata": {},
   "source": [
    "Now, let’s figure out that how gender could be the reason for employees to leave the company or to stay in."
   ]
  },
  {
   "cell_type": "code",
   "execution_count": null,
   "metadata": {},
   "outputs": [],
   "source": [
    "#Create a plot for crosstab\n",
    "\n",
    "pd.crosstab(data_cap['Gender'],data_cap['Attrition']).plot(kind=\"bar\",figsize=(10,6))\n",
    "plt.title(\"Attrition vs Gender\")\n",
    "plt.xlabel(\"Attrition\")\n",
    "plt.ylabel(\"No of people who left based on gender\")\n",
    "plt.legend([\"NO\",\"Yes\"])\n",
    "plt.xticks(rotation=0)"
   ]
  },
  {
   "cell_type": "code",
   "execution_count": null,
   "metadata": {},
   "outputs": [],
   "source": [
    "gender_dict = data_cap[\"Attrition\"].value_counts()\n",
    "gender_dict"
   ]
  },
  {
   "cell_type": "markdown",
   "metadata": {},
   "source": [
    "Here, from the chart it’s visible that it heavily depends on males, also we can see that it’s either male, female  but more number of them are Staying (NO) in the company."
   ]
  },
  {
   "cell_type": "markdown",
   "metadata": {},
   "source": [
    "BusinessTravel"
   ]
  },
  {
   "cell_type": "code",
   "execution_count": null,
   "metadata": {},
   "outputs": [],
   "source": [
    "BusinessTravel_dict = data_cap[\"BusinessTravel\"].value_counts()\n",
    "BusinessTravel_dict"
   ]
  },
  {
   "cell_type": "markdown",
   "metadata": {},
   "source": [
    "BusinessTravel_dict"
   ]
  },
  {
   "cell_type": "code",
   "execution_count": null,
   "metadata": {},
   "outputs": [],
   "source": [
    "data_cap['BusinessTravel'].value_counts().plot(kind='bar',color=['salmon','lightblue'],title=\"Count of different gender\")"
   ]
  },
  {
   "cell_type": "code",
   "execution_count": null,
   "metadata": {},
   "outputs": [],
   "source": [
    "pd.crosstab(data_cap['BusinessTravel'],data_cap['Attrition']).plot(kind=\"bar\",figsize=(10,6))\n",
    "plt.title(\"Attrition vs BusinessTravel\")\n",
    "plt.xlabel(\"Attrition\")\n",
    "plt.ylabel(\"No of people who left based on BusinessTravel\")\n",
    "plt.legend([\"NO\",\"Yes\"])\n",
    "plt.xticks(rotation=0)"
   ]
  },
  {
   "cell_type": "markdown",
   "metadata": {},
   "source": [
    "Here, from the chart it’s visible that it heavily depends on Travel Rarely, also we can see that it’s either Travel_Rarely  \n",
    "Travel_Frequently  \n",
    "Non-Travel  but more number of them are staying in the company."
   ]
  },
  {
   "cell_type": "markdown",
   "metadata": {},
   "source": [
    "Department"
   ]
  },
  {
   "cell_type": "code",
   "execution_count": null,
   "metadata": {},
   "outputs": [],
   "source": [
    "Department_dict = data_cap[\"Department\"].value_counts()\n",
    "Department_dict"
   ]
  },
  {
   "cell_type": "code",
   "execution_count": null,
   "metadata": {},
   "outputs": [],
   "source": [
    "data_cap['Department'].value_counts().plot(kind='bar',color=['salmon','lightblue'],title=\"Count of different Department\")"
   ]
  },
  {
   "cell_type": "code",
   "execution_count": null,
   "metadata": {},
   "outputs": [],
   "source": [
    "pd.crosstab(data_cap['Department'],data_cap['Attrition']).plot(kind=\"bar\",figsize=(10,6))\n",
    "plt.title(\"Attrition vs Department\")\n",
    "plt.xlabel(\"Attrition\")\n",
    "plt.ylabel(\"No of people who left based on Department\")\n",
    "plt.legend([\"NO\",\"Yes\"])\n",
    "plt.xticks(rotation=0)"
   ]
  },
  {
   "cell_type": "markdown",
   "metadata": {},
   "source": [
    "Here, in the chart, we can see that the maximum number of employees are in the Research & Development  section and a high number of employees in the same section are Staying (NO) in the company."
   ]
  },
  {
   "cell_type": "code",
   "execution_count": null,
   "metadata": {},
   "outputs": [],
   "source": [
    "JobRole_dict = data_cap[\"JobRole\"].value_counts()\n",
    "JobRole_dict"
   ]
  },
  {
   "cell_type": "code",
   "execution_count": null,
   "metadata": {},
   "outputs": [],
   "source": [
    "data_cap['JobRole'].value_counts().plot(kind='bar',color=['salmon','lightblue'],title=\"Count of different JobRole\")"
   ]
  },
  {
   "cell_type": "code",
   "execution_count": null,
   "metadata": {},
   "outputs": [],
   "source": [
    "pd.crosstab(data_cap['JobRole'],data_cap['Attrition']).plot(kind=\"bar\",figsize=(20,6))\n",
    "plt.title(\"Attrition vs JobRole\")\n",
    "plt.xlabel(\"Attrition\")\n",
    "plt.ylabel(\"No of people who left based on JobRole\")\n",
    "plt.legend([\"NO\",\"Yes\"])\n",
    "plt.xticks(rotation=0)"
   ]
  },
  {
   "cell_type": "markdown",
   "metadata": {},
   "source": [
    "Here, in the chart, we can see that the maximum number of employees are in the sales executive jobrole and a high number of employees in the same section are Staying (NO) in the company."
   ]
  },
  {
   "cell_type": "markdown",
   "metadata": {},
   "source": [
    "MaritalStatus"
   ]
  },
  {
   "cell_type": "code",
   "execution_count": null,
   "metadata": {},
   "outputs": [],
   "source": [
    "MaritalStatus_dict = data_cap[\"MaritalStatus\"].value_counts()\n",
    "MaritalStatus_dict"
   ]
  },
  {
   "cell_type": "code",
   "execution_count": null,
   "metadata": {},
   "outputs": [],
   "source": [
    "data_cap['MaritalStatus'].value_counts().plot(kind='bar',color=['salmon','lightblue'],title=\"Count of different JobRole\")"
   ]
  },
  {
   "cell_type": "code",
   "execution_count": null,
   "metadata": {},
   "outputs": [],
   "source": [
    "pd.crosstab(data_cap['MaritalStatus'],data_cap['Attrition']).plot(kind=\"bar\",figsize=(10,6))\n",
    "plt.title(\"Attrition vs MaritalStatus\")\n",
    "plt.xlabel(\"Attrition\")\n",
    "plt.ylabel(\"No of people who left based on MaritalStatus\")\n",
    "plt.legend([\"NO\",\"Yes\"])\n",
    "plt.xticks(rotation=0)"
   ]
  },
  {
   "cell_type": "markdown",
   "metadata": {},
   "source": [
    "Here, in the chart, we can see that the maximum number of employees are in the sales Married  MaritalStatus  and a high number of employees in the same section are Staying\n",
    "(NO) in the company."
   ]
  },
  {
   "cell_type": "markdown",
   "metadata": {},
   "source": [
    "OverTime"
   ]
  },
  {
   "cell_type": "code",
   "execution_count": null,
   "metadata": {},
   "outputs": [],
   "source": [
    "OverTime_dict = data_cap[\"OverTime\"].value_counts()\n",
    "OverTime_dict"
   ]
  },
  {
   "cell_type": "code",
   "execution_count": null,
   "metadata": {},
   "outputs": [],
   "source": [
    "pd.crosstab(data_cap['OverTime'],data_cap['Attrition']).plot(kind=\"bar\",figsize=(10,6))\n",
    "plt.title(\"Attrition vs OverTime\")\n",
    "plt.xlabel(\"Attrition\")\n",
    "plt.ylabel(\"No of people who left based on OverTime\")\n",
    "plt.legend([\"NO\",\"Yes\"])\n",
    "plt.xticks(rotation=0)"
   ]
  },
  {
   "cell_type": "markdown",
   "metadata": {},
   "source": [
    "Here, in the chart, we can see that the maximum number of employees are in the No overtime and a high number of employees in the same section are Staying (NO) in the company."
   ]
  },
  {
   "cell_type": "markdown",
   "metadata": {},
   "source": [
    "# Now let’s visualize some continuous data"
   ]
  },
  {
   "cell_type": "markdown",
   "metadata": {},
   "source": [
    "Age"
   ]
  },
  {
   "cell_type": "code",
   "execution_count": null,
   "metadata": {},
   "outputs": [],
   "source": [
    "# Its Age vs Attrition\n",
    "sns.jointplot(x='Attrition',y='Age',data=data_cap)"
   ]
  },
  {
   "cell_type": "markdown",
   "metadata": {},
   "source": [
    "In the above graph, we can see that the ones who are having more age are Staying(NO)(old people) back in the company rather than the ones who have comparatively less age."
   ]
  },
  {
   "cell_type": "markdown",
   "metadata": {},
   "source": [
    "MonthlyIncome"
   ]
  },
  {
   "cell_type": "code",
   "execution_count": null,
   "metadata": {},
   "outputs": [],
   "source": [
    "\n",
    "# Its MonthlyIncomevs Attrition\n",
    "sns.jointplot(x='Attrition',y='MonthlyIncome',data=data_cap)"
   ]
  },
  {
   "cell_type": "markdown",
   "metadata": {},
   "source": [
    "In the above graph, we can see that the ones who are having more income  are staying (NO) back in the company rather than the ones who have comparatively less income."
   ]
  },
  {
   "cell_type": "markdown",
   "metadata": {},
   "source": [
    "JobLevel"
   ]
  },
  {
   "cell_type": "code",
   "execution_count": null,
   "metadata": {},
   "outputs": [],
   "source": [
    "# Its  JobLevelvs Attrition\n",
    "sns.jointplot(x='Attrition',y='JobLevel',data=data_cap)"
   ]
  },
  {
   "cell_type": "markdown",
   "metadata": {},
   "source": [
    "In the above graph, we can see that the ones who are having more JobLevel are staying (NO) back in the company rather than the ones who have comparatively less JobLevel."
   ]
  },
  {
   "cell_type": "markdown",
   "metadata": {},
   "source": [
    "TotalWorkingYears "
   ]
  },
  {
   "cell_type": "code",
   "execution_count": null,
   "metadata": {},
   "outputs": [],
   "source": [
    "# Its  TotalWorkingYears vs Attrition\n",
    "sns.jointplot(x='Attrition',y='TotalWorkingYears',data=data_cap)"
   ]
  },
  {
   "cell_type": "markdown",
   "metadata": {},
   "source": [
    "In the above graph, we can see that the ones who are having more TotalWorkingYears are staying (NO) back in the company rather than the ones who have comparatively less TotalWorkingYears."
   ]
  },
  {
   "cell_type": "markdown",
   "metadata": {},
   "source": [
    "PercentSalaryHike "
   ]
  },
  {
   "cell_type": "code",
   "execution_count": null,
   "metadata": {},
   "outputs": [],
   "source": [
    "# Its  PercentSalaryHike vs Attrition\n",
    "sns.jointplot(x='Attrition',y='PercentSalaryHike',data=data_cap)"
   ]
  },
  {
   "cell_type": "code",
   "execution_count": null,
   "metadata": {},
   "outputs": [],
   "source": []
  },
  {
   "cell_type": "code",
   "execution_count": null,
   "metadata": {},
   "outputs": [],
   "source": []
  },
  {
   "cell_type": "code",
   "execution_count": null,
   "metadata": {
    "colab": {
     "base_uri": "https://localhost:8080/",
     "height": 1000
    },
    "id": "Ib0QpW7QVRBE",
    "outputId": "271a9bb5-1bfb-45d1-8168-446caed30071"
   },
   "outputs": [],
   "source": [
    "plt.figure(figsize=(10,10))\n",
    "sns.heatmap(data_cap.corr(), annot=True, cmap=\"YlGnBu\")"
   ]
  },
  {
   "cell_type": "code",
   "execution_count": null,
   "metadata": {
    "colab": {
     "base_uri": "https://localhost:8080/",
     "height": 388
    },
    "id": "J5xYQg5_1kMW",
    "outputId": "1ea1e083-e005-4026-8556-2bd6b9f9e15a"
   },
   "outputs": [],
   "source": [
    "#plot the Age distribution\n",
    "plt.figure(figsize = (16,6))\n",
    "sns.distplot(data_cap['Age'])\n",
    "plt.show()"
   ]
  },
  {
   "cell_type": "code",
   "execution_count": null,
   "metadata": {
    "colab": {
     "base_uri": "https://localhost:8080/",
     "height": 388
    },
    "id": "1qEOBEbD1kMW",
    "outputId": "1a75579c-043e-49a6-bdd1-23b1a3a7237f"
   },
   "outputs": [],
   "source": [
    "# Plot count of Attrition\n",
    "plt.figure(figsize = (16,6))\n",
    "sns.countplot('Attrition', data = data_cap)\n",
    "plt.show()"
   ]
  },
  {
   "cell_type": "code",
   "execution_count": null,
   "metadata": {
    "colab": {
     "base_uri": "https://localhost:8080/"
    },
    "id": "csNRsn-h1kMX",
    "outputId": "fb7d1b28-5f82-405e-bc4b-9e7b09c2808f"
   },
   "outputs": [],
   "source": [
    "#Calculate the attrition percentage\n",
    "print(\"Attrition % in the org is::\",(data_cap['Attrition'].value_counts()['Yes']/data_cap['Attrition'].count())*100)\n"
   ]
  },
  {
   "cell_type": "code",
   "execution_count": null,
   "metadata": {
    "colab": {
     "base_uri": "https://localhost:8080/",
     "height": 424
    },
    "id": "6U2Fv2Uu1kMX",
    "outputId": "c0cfba62-c0b5-410e-d69a-23cd2e356b1e"
   },
   "outputs": [],
   "source": [
    "#Check to see if there is any relation b/w Age and Attrition\n",
    "plt.figure(figsize = (16,6))\n",
    "sns.swarmplot(y = 'Age', x = 'Attrition', data = data_cap, hue = 'Attrition')\n",
    "plt.show()\n",
    "\"\"\"\"From the below plot we can see that there is NO linear relation between 'Age' and 'Attrition', \n",
    "but bulk of the attrition is happening between the age groups of '25-32'\"\"\""
   ]
  },
  {
   "cell_type": "code",
   "execution_count": null,
   "metadata": {
    "colab": {
     "base_uri": "https://localhost:8080/",
     "height": 460
    },
    "id": "vjqbkLxx1kMX",
    "outputId": "4d54ddf3-2b1f-4bac-9386-b7369f9aea64"
   },
   "outputs": [],
   "source": [
    "#Plotting the count by business travel\n",
    "plt.figure(figsize = (16,6))\n",
    "print(data_cap['BusinessTravel'].value_counts())\n",
    "sns.countplot(x= 'BusinessTravel', data = data_cap)\n",
    "plt.show()"
   ]
  },
  {
   "cell_type": "code",
   "execution_count": null,
   "metadata": {
    "colab": {
     "base_uri": "https://localhost:8080/",
     "height": 1000
    },
    "id": "Q3KxVWWf1kMY",
    "outputId": "534bd350-e495-4ca3-8553-fd9c50cfc9b2"
   },
   "outputs": [],
   "source": [
    "#creating a new variable 'cat_BusinessTravel' . Converting into a categorical variable\n",
    "#Travel_Rarely = 1\n",
    "#Travel_Frequently = 2\n",
    "#Non_Travel = 3\n",
    "data_cap.loc[data_cap['BusinessTravel'] == 'Travel_Rarely','cat_BusinessTravel'] = 1\n",
    "data_cap.loc[data_cap['BusinessTravel'] == 'Travel_Frequently','cat_BusinessTravel'] = 2\n",
    "data_cap.loc[data_cap['BusinessTravel'] == 'Non-Travel','cat_BusinessTravel'] = 3\n",
    "data_cap.head(20)"
   ]
  },
  {
   "cell_type": "code",
   "execution_count": null,
   "metadata": {
    "colab": {
     "base_uri": "https://localhost:8080/",
     "height": 424
    },
    "id": "79JVJtVg1kMY",
    "outputId": "9603605d-a3f1-461c-b3af-d431d50f8ecb"
   },
   "outputs": [],
   "source": [
    "#Plotting Attrition for Age and business travel\n",
    "#Travel_Rarely = 1\n",
    "#Travel_Frequently = 2\n",
    "#Non_Travel = 3\n",
    "plt.figure(figsize = (16,6))\n",
    "sns.swarmplot(x= 'Attrition', y='Age',  data = data_cap, hue = 'cat_BusinessTravel')\n",
    "plt.show()\n",
    "\n",
    "#Insight 1\n",
    "\"\"\"From the below plot we can see that attrition is higher for employees in age bracket of [25-32].\n",
    "Also, in this age group employees are travelling more\"\"\""
   ]
  },
  {
   "cell_type": "code",
   "execution_count": null,
   "metadata": {
    "colab": {
     "base_uri": "https://localhost:8080/",
     "height": 460
    },
    "id": "fl6ldcfL1kMY",
    "outputId": "34d5bc32-8ec4-442b-e8dd-a958c6581bd0"
   },
   "outputs": [],
   "source": [
    "#Plotting counts for department\n",
    "print(data_cap['Department'].value_counts())\n",
    "plt.figure(figsize = (16,6))\n",
    "sns.countplot(data_cap['Department'])\n",
    "plt.show()"
   ]
  },
  {
   "cell_type": "code",
   "execution_count": null,
   "metadata": {
    "id": "VJQff-KJ1kMZ"
   },
   "outputs": [],
   "source": [
    "#converting 'Department' data to ordinal variable\n",
    "#Sales = 1\n",
    "#Research and Development = 2\n",
    "#Human Resorces = 3\n",
    "data_cap.loc[data_cap['Department'] == 'Sales', 'ord_Department'] = 1\n",
    "data_cap.loc[data_cap['Department'] == 'Research & Development', 'ord_Department'] = 2\n",
    "data_cap.loc[data_cap['Department'] == 'Human Resources', 'ord_Department'] = 3\n"
   ]
  },
  {
   "cell_type": "code",
   "execution_count": null,
   "metadata": {
    "colab": {
     "base_uri": "https://localhost:8080/",
     "height": 143
    },
    "id": "8ADRu3o91kMZ",
    "outputId": "8b8fc107-6a0a-44c4-991f-b17b6b40ae72"
   },
   "outputs": [],
   "source": [
    "#Getting the count of Business travel based on Department\n",
    "#HR\n",
    "departmentgrp = data_cap.groupby(by = 'Department')\n",
    "\n",
    "df1 = departmentgrp.get_group('Human Resources')['BusinessTravel'].value_counts()\n",
    "df1 = pd.DataFrame(df1)\n",
    "df1 = df1.reset_index()\n",
    "df1['Department'] = 'HR'\n",
    "df1"
   ]
  },
  {
   "cell_type": "code",
   "execution_count": null,
   "metadata": {
    "colab": {
     "base_uri": "https://localhost:8080/",
     "height": 295
    },
    "id": "UZl7dPGeVRBJ",
    "outputId": "92faa278-8fb9-4336-c06f-51a72bdd1bf7"
   },
   "outputs": [],
   "source": [
    "r = data_cap.groupby('Attrition')['Attrition'].count()\n",
    "plt.pie(r, explode=[0.05, 0.1], labels=['No', 'Yes'], radius=1.5, autopct='%1.1f%%',  shadow=True);"
   ]
  },
  {
   "cell_type": "code",
   "execution_count": null,
   "metadata": {
    "colab": {
     "base_uri": "https://localhost:8080/",
     "height": 237
    },
    "id": "KcmT6ca51kMZ",
    "outputId": "d972a352-8e1a-48d6-f8f7-a370da260697"
   },
   "outputs": [],
   "source": [
    "#R&D\n",
    "df2 = departmentgrp.get_group('Research & Development')['BusinessTravel'].value_counts()\n",
    "df2 = df2.to_frame().reset_index()\n",
    "df2['Department'] = 'R&D'\n",
    "#df2.loc[df2['Department'] != 'HR', 'Department'] = 'R&D' \n",
    "df3 = df1.append(df2, ignore_index=True)\n",
    "df3"
   ]
  },
  {
   "cell_type": "code",
   "execution_count": null,
   "metadata": {
    "colab": {
     "base_uri": "https://localhost:8080/",
     "height": 331
    },
    "id": "8TEjafk21kMZ",
    "outputId": "aa5e5068-743f-418f-c35a-795e64526419"
   },
   "outputs": [],
   "source": [
    "df2 = departmentgrp.get_group('Sales')['BusinessTravel'].value_counts()\n",
    "df2 = df2.to_frame().reset_index()\n",
    "df2['Department'] = 'Sales'\n",
    "df4 = df3.append(df2, ignore_index=True)\n",
    "df4"
   ]
  },
  {
   "cell_type": "code",
   "execution_count": null,
   "metadata": {
    "colab": {
     "base_uri": "https://localhost:8080/"
    },
    "id": "XTg-TyzG1kMZ",
    "outputId": "73b97f22-f088-4943-86d2-a0ca9c5d9d96"
   },
   "outputs": [],
   "source": [
    "#Calculating % of frequent travel employees in Sales and R&D\n",
    "print(\"% of frequent travel in Sales is::\",(df4.loc[((df4['Department'] == 'Sales') & (df4['index'] == 'Travel_Frequently')),'BusinessTravel'].sum())/(df4.loc[df4['Department'] == 'Sales', 'BusinessTravel'].sum()))\n",
    "print(\"% of frequent travel in R&D is ::\",(df4.loc[((df4['Department'] == 'R&D') & (df4['index'] == 'Travel_Frequently')),'BusinessTravel'].sum())/(df4.loc[df4['Department'] == 'R&D', 'BusinessTravel'].sum()))\n"
   ]
  },
  {
   "cell_type": "code",
   "execution_count": null,
   "metadata": {
    "colab": {
     "base_uri": "https://localhost:8080/",
     "height": 388
    },
    "id": "2W9wnm3D1kMa",
    "outputId": "1b46b644-b8cb-4b2e-fa18-cc18255a09c8",
    "scrolled": true
   },
   "outputs": [],
   "source": [
    "#plotting department data against travel\n",
    "plt.figure(figsize = (16,6))\n",
    "sns.barplot(x= 'Department', y = 'BusinessTravel' , data = df4, hue = 'index')\n",
    "plt.show()"
   ]
  },
  {
   "cell_type": "code",
   "execution_count": null,
   "metadata": {
    "colab": {
     "base_uri": "https://localhost:8080/",
     "height": 35
    },
    "id": "z6eT-TNI1kMa",
    "outputId": "4f2bc23e-2108-4cdb-f207-f86ce1bcb543"
   },
   "outputs": [],
   "source": [
    "##Calculating attrition % for each department\n",
    "#Sales\n",
    "attrbysales = departmentgrp.get_group('Sales')['Attrition'].value_counts()\n",
    "#HR\n",
    "attrbyHR = departmentgrp.get_group('Human Resources')['Attrition'].value_counts()\n",
    "#RnD\n",
    "attrbyRnD = departmentgrp.get_group('Research & Development')['Attrition'].value_counts()\n",
    "attrbydept = pd.DataFrame(columns = ['Department', 'Attrition'])\n",
    "#attrbydept.reset_index(inplace = True)\n",
    "attrbydept.loc[len(attrbydept)] = [\"Sales\", attrbysales['Yes']/(attrbysales.sum())*100]\n",
    "attrbydept.loc[len(attrbydept)] = [\"HR\",(attrbyHR['Yes']/attrbyHR.sum())*100]\n",
    "attrbydept.loc[len(attrbydept)] = [\"R&D\",(attrbyRnD['Yes']/attrbyRnD.sum())*100]\n",
    "attrbydept\n",
    "\n",
    "#Insight 2\n",
    "\"\"\"Attrition is highest in Sales team closely followed by HR team\"\"\""
   ]
  },
  {
   "cell_type": "code",
   "execution_count": null,
   "metadata": {
    "colab": {
     "base_uri": "https://localhost:8080/",
     "height": 388
    },
    "id": "YC5QR3Ny1kMa",
    "outputId": "b1fab358-4e2e-410f-b7dc-27343f1e74fc"
   },
   "outputs": [],
   "source": [
    "#Plotting Attrition% for each department\n",
    "plt.figure(figsize = (16,6))\n",
    "sns.barplot(x= 'Department', y = 'Attrition' , data = attrbydept, hue = 'Department')\n",
    "plt.show()"
   ]
  },
  {
   "cell_type": "code",
   "execution_count": null,
   "metadata": {
    "colab": {
     "base_uri": "https://localhost:8080/"
    },
    "id": "izRfOhuM1kMa",
    "outputId": "e79054f6-1408-44f4-b972-bf104891adf4"
   },
   "outputs": [],
   "source": [
    "##Calculating attrition vs EnvironmentSatisfaction level\n",
    "envsatisfcationgrp = data_cap.groupby(['EnvironmentSatisfaction','Attrition'])\n",
    "envsatisfcationgrp.groups.keys()\n",
    "\n"
   ]
  },
  {
   "cell_type": "code",
   "execution_count": null,
   "metadata": {
    "colab": {
     "base_uri": "https://localhost:8080/",
     "height": 80
    },
    "id": "s-91hlxw1kMa",
    "outputId": "c0dd93e4-7c1c-40b4-994d-9bbb3af69d04"
   },
   "outputs": [],
   "source": [
    "count = envsatisfcationgrp.get_group((1, 'Yes'))['EnvironmentSatisfaction'].count()\n",
    "count\n",
    "AttrperEnvSat = pd.DataFrame(columns = ['EnvironmentSatisfaction', 'Attrition', 'Count'])\n",
    "AttrperEnvSat.loc[len(AttrperEnvSat)] = ['1', 'Yes', count]\n",
    "AttrperEnvSat"
   ]
  },
  {
   "cell_type": "code",
   "execution_count": null,
   "metadata": {
    "colab": {
     "base_uri": "https://localhost:8080/",
     "height": 112
    },
    "id": "rfZemMYI1kMa",
    "outputId": "8f179baa-68ea-46ab-ddb0-dd18aeab8852"
   },
   "outputs": [],
   "source": [
    "count = envsatisfcationgrp.get_group((2, 'Yes'))['EnvironmentSatisfaction'].count()\n",
    "AttrperEnvSat.loc[len(AttrperEnvSat)] = ['2', 'Yes', count]\n",
    "AttrperEnvSat"
   ]
  },
  {
   "cell_type": "code",
   "execution_count": null,
   "metadata": {
    "colab": {
     "base_uri": "https://localhost:8080/",
     "height": 143
    },
    "id": "io98mcpS1kMa",
    "outputId": "8ffaaeac-92a7-484b-d118-873d6a626b6b"
   },
   "outputs": [],
   "source": [
    "count = envsatisfcationgrp.get_group((3, 'Yes'))['EnvironmentSatisfaction'].count()\n",
    "AttrperEnvSat.loc[len(AttrperEnvSat)] = ['3', 'Yes', count]\n",
    "AttrperEnvSat"
   ]
  },
  {
   "cell_type": "code",
   "execution_count": null,
   "metadata": {
    "colab": {
     "base_uri": "https://localhost:8080/",
     "height": 175
    },
    "id": "Qiq5ZeeK1kMb",
    "outputId": "8f426a16-811e-4439-e960-24a0d0a360a2"
   },
   "outputs": [],
   "source": [
    "count = envsatisfcationgrp.get_group((4, 'Yes'))['EnvironmentSatisfaction'].count()\n",
    "AttrperEnvSat.loc[len(AttrperEnvSat)] = ['4', 'Yes', count]\n",
    "AttrperEnvSat"
   ]
  },
  {
   "cell_type": "code",
   "execution_count": null,
   "metadata": {
    "colab": {
     "base_uri": "https://localhost:8080/",
     "height": 406
    },
    "id": "bTRI7lse1kMb",
    "outputId": "be04b7aa-a701-41e6-f818-96e739ed72fa"
   },
   "outputs": [],
   "source": [
    "#Plotting Attrition vs Environmentsatisfaction\n",
    "plt.figure(figsize = (16,6))\n",
    "sns.barplot(x= 'EnvironmentSatisfaction', y = 'Count' , data = AttrperEnvSat, hue = 'EnvironmentSatisfaction')\n",
    "plt.show()\n",
    "\n",
    "#Insight3\n",
    "\"\"\"Attrition is highest for group that has EnvironmentSatisfaction of '1', but for level '3' and '4' its high as well.\"\"\""
   ]
  },
  {
   "cell_type": "code",
   "execution_count": null,
   "metadata": {
    "colab": {
     "base_uri": "https://localhost:8080/"
    },
    "id": "CJUh0svN1kMb",
    "outputId": "82e3cb86-ad0c-4b39-ec15-37b827fb6f5a"
   },
   "outputs": [],
   "source": [
    "#Attrition by gender\n",
    "AttrGender = data_cap.groupby(['Attrition', 'Gender'])\n",
    "AttrGender.groups.keys()"
   ]
  },
  {
   "cell_type": "code",
   "execution_count": null,
   "metadata": {
    "colab": {
     "base_uri": "https://localhost:8080/",
     "height": 49
    },
    "id": "oPC3rLKu1kMb",
    "outputId": "da5b4a37-b883-48f4-a673-06250c73d4c5"
   },
   "outputs": [],
   "source": [
    "AttrperGend = pd.DataFrame(columns = ['Gender', 'Attrition', 'Count'])\n",
    "AttrperGend"
   ]
  },
  {
   "cell_type": "code",
   "execution_count": null,
   "metadata": {
    "colab": {
     "base_uri": "https://localhost:8080/",
     "height": 80
    },
    "id": "ndiETJbN1kMb",
    "outputId": "0803af90-9484-4e5c-8c32-2484513ca486"
   },
   "outputs": [],
   "source": [
    "count = AttrGender.get_group(('Yes', 'Female'))['Attrition'].count()\n",
    "AttrperGend.loc[len(AttrperGend)] = ['Female', 'Yes', count]\n",
    "AttrperGend"
   ]
  },
  {
   "cell_type": "code",
   "execution_count": null,
   "metadata": {
    "colab": {
     "base_uri": "https://localhost:8080/",
     "height": 112
    },
    "id": "NKa40-i51kMb",
    "outputId": "211a36d6-5d9c-4eeb-b9e1-533d6405cc8a"
   },
   "outputs": [],
   "source": [
    "count = AttrGender.get_group(('Yes', 'Male'))['Attrition'].count()\n",
    "AttrperGend.loc[len(AttrperGend)] = ['Male', 'Yes', count]\n",
    "AttrperGend"
   ]
  },
  {
   "cell_type": "code",
   "execution_count": null,
   "metadata": {
    "colab": {
     "base_uri": "https://localhost:8080/"
    },
    "id": "IjcCRc4S1kMb",
    "outputId": "0813efec-2764-48cc-e63f-7e652cb9c7a9"
   },
   "outputs": [],
   "source": [
    "data_cap['Gender'].value_counts()\n",
    "#plt.figure(figsize = (16,6))\n",
    "#sns.barplot(x= 'Gender', y = 'Count' , data = AttrperGend, hue = 'Gender')"
   ]
  },
  {
   "cell_type": "code",
   "execution_count": null,
   "metadata": {
    "colab": {
     "base_uri": "https://localhost:8080/",
     "height": 406
    },
    "id": "D4mr32iO1kMb",
    "outputId": "b4c8be07-af62-4a26-c3c1-4013f8bda9c3"
   },
   "outputs": [],
   "source": [
    "#Plotting Attrition vs Gender\n",
    "plt.figure(figsize = (16,6))\n",
    "sns.barplot(x= 'Gender', y = 'Count' , data = AttrperGend, hue = 'Gender')\n",
    "plt.show()\n",
    "\n",
    "#Insight 4\n",
    "\"\"\"Out of total people who have left, Male's have higher attrition numbers\"\"\""
   ]
  },
  {
   "cell_type": "code",
   "execution_count": null,
   "metadata": {
    "id": "m2d3tGY71kMb"
   },
   "outputs": [],
   "source": [
    "#Attrition by job level"
   ]
  },
  {
   "cell_type": "code",
   "execution_count": null,
   "metadata": {
    "colab": {
     "base_uri": "https://localhost:8080/"
    },
    "id": "4D4x5LIg1kMb",
    "outputId": "7e44854c-2dc5-4045-935c-60242c857ca5"
   },
   "outputs": [],
   "source": [
    "attrbyJoblvl = data_cap.groupby(['JobLevel', 'Attrition'])\n",
    "attrbyJoblvl.groups.keys()"
   ]
  },
  {
   "cell_type": "code",
   "execution_count": null,
   "metadata": {
    "colab": {
     "base_uri": "https://localhost:8080/"
    },
    "id": "yYo5ypBf1kMc",
    "outputId": "db09d70d-9f29-452d-c0f4-0ee342fe1ef5"
   },
   "outputs": [],
   "source": [
    "count = attrbyJoblvl.get_group((1, 'Yes'))['Attrition'].count() \n",
    "count"
   ]
  },
  {
   "cell_type": "code",
   "execution_count": null,
   "metadata": {
    "colab": {
     "base_uri": "https://localhost:8080/",
     "height": 49
    },
    "id": "eHaSMs8A1kMc",
    "outputId": "5bf7c9a9-615d-446e-a8a5-19b2f193c9af"
   },
   "outputs": [],
   "source": [
    "attrvsJoblvl = pd.DataFrame(columns = ['JobLevel', 'Attrition', 'count', 'Attr%'])\n",
    "attrvsJoblvl"
   ]
  },
  {
   "cell_type": "code",
   "execution_count": null,
   "metadata": {
    "colab": {
     "base_uri": "https://localhost:8080/",
     "height": 80
    },
    "id": "5jwEb2bo1kMc",
    "outputId": "fc53aa85-c876-48ed-bdf8-b503d63fa938"
   },
   "outputs": [],
   "source": [
    "attrvsJoblvl.loc[len(attrvsJoblvl)] = ['1', 'Yes', count, (count/data_cap['JobLevel'].value_counts()[1])*100]\n",
    "attrvsJoblvl"
   ]
  },
  {
   "cell_type": "code",
   "execution_count": null,
   "metadata": {
    "colab": {
     "base_uri": "https://localhost:8080/",
     "height": 112
    },
    "id": "Jd1R4jq91kMc",
    "outputId": "c77d71b8-1115-4448-c3be-e5269953c801"
   },
   "outputs": [],
   "source": [
    "count = attrbyJoblvl.get_group((2, 'Yes'))['Attrition'].count() \n",
    "attrvsJoblvl.loc[len(attrvsJoblvl)] = ['2', 'Yes', count, (count/data_cap['JobLevel'].value_counts()[2])*100]\n",
    "attrvsJoblvl"
   ]
  },
  {
   "cell_type": "code",
   "execution_count": null,
   "metadata": {
    "colab": {
     "base_uri": "https://localhost:8080/",
     "height": 143
    },
    "id": "ZHqUJrpp1kMc",
    "outputId": "16023ad1-9b5b-4b29-842d-68b8d77490c5"
   },
   "outputs": [],
   "source": [
    "count = attrbyJoblvl.get_group((3, 'Yes'))['Attrition'].count() \n",
    "attrvsJoblvl.loc[len(attrvsJoblvl)] = ['3', 'Yes', count, (count/data_cap['JobLevel'].value_counts()[3])*100]\n",
    "attrvsJoblvl"
   ]
  },
  {
   "cell_type": "code",
   "execution_count": null,
   "metadata": {
    "colab": {
     "base_uri": "https://localhost:8080/",
     "height": 175
    },
    "id": "xl-y5Gz_1kMc",
    "outputId": "e9cfe921-ff1a-4b88-c7a1-ba6103e5186e"
   },
   "outputs": [],
   "source": [
    "count = attrbyJoblvl.get_group((4, 'Yes'))['Attrition'].count() \n",
    "attrvsJoblvl.loc[len(attrvsJoblvl)] = ['4', 'Yes', count, (count/data_cap['JobLevel'].value_counts()[4])*100]\n",
    "attrvsJoblvl"
   ]
  },
  {
   "cell_type": "code",
   "execution_count": null,
   "metadata": {
    "colab": {
     "base_uri": "https://localhost:8080/",
     "height": 206
    },
    "id": "FWwu2yeE1kMc",
    "outputId": "a1f50151-35cc-40a0-8e6a-0dea95fb7e5c"
   },
   "outputs": [],
   "source": [
    "count = attrbyJoblvl.get_group((5, 'Yes'))['Attrition'].count() \n",
    "attrvsJoblvl.loc[len(attrvsJoblvl)] = ['5', 'Yes', count, (count/data_cap['JobLevel'].value_counts()[5])*100]\n",
    "attrvsJoblvl"
   ]
  },
  {
   "cell_type": "code",
   "execution_count": null,
   "metadata": {
    "colab": {
     "base_uri": "https://localhost:8080/",
     "height": 406
    },
    "id": "SNL4b3UN1kMc",
    "outputId": "00daec2c-434e-4e4e-dcf0-5e90c92390b6"
   },
   "outputs": [],
   "source": [
    "#Plotting Attrition vs Job Level\n",
    "plt.figure(figsize = (16,6))\n",
    "sns.barplot(x= 'Attrition', y = 'Attr%' , data = attrvsJoblvl, hue = 'JobLevel')\n",
    "plt.show()\n",
    "\n",
    "#Insight 5\n",
    "\"\"\"Attrition % is highest in Job level 1, followed by job level 3\"\"\""
   ]
  },
  {
   "cell_type": "code",
   "execution_count": null,
   "metadata": {
    "colab": {
     "base_uri": "https://localhost:8080/",
     "height": 406
    },
    "id": "7sWBe64e1kMc",
    "outputId": "43b8e8fa-1cf2-41c6-cd68-35bf821fbd77"
   },
   "outputs": [],
   "source": [
    "#Plotting Attrition vs monthly income\n",
    "plt.figure(figsize = (16,6))\n",
    "sns.swarmplot(x= 'Attrition', y = 'MonthlyIncome' , data = data_cap, hue= 'MaritalStatus')\n",
    "plt.show()\n",
    "\n",
    "#Insight 6\n",
    "\"\"\"Attrition is highest amount employees who are earning between (2500-5000)\"\"\"\n"
   ]
  },
  {
   "cell_type": "code",
   "execution_count": null,
   "metadata": {
    "colab": {
     "base_uri": "https://localhost:8080/",
     "height": 388
    },
    "id": "67edXXrv1kMc",
    "outputId": "dc67efe9-59a4-4f0c-a2c8-03678e8f7cca"
   },
   "outputs": [],
   "source": [
    "#Plotting Joblevel vs monthly income\n",
    "plt.figure(figsize = (16,6))\n",
    "sns.swarmplot(x= 'JobLevel', y = 'MonthlyIncome' , data = data_cap, hue= 'Department')\n",
    "plt.show()"
   ]
  },
  {
   "cell_type": "code",
   "execution_count": null,
   "metadata": {
    "colab": {
     "base_uri": "https://localhost:8080/",
     "height": 406
    },
    "id": "-1kteXT21kMc",
    "outputId": "315c410b-e4b1-4b00-fdfc-5169b54070ac"
   },
   "outputs": [],
   "source": [
    "#Plotting Age vs monthly income\n",
    "plt.figure(figsize = (16,6))\n",
    "sns.regplot(x= 'Age', y = 'MonthlyIncome' , data = data_cap)\n",
    "plt.show()\n",
    "\n",
    "#Insight 7\n",
    "\"\"\"There is a linear relation between Age and Monthly income\"\"\""
   ]
  },
  {
   "cell_type": "code",
   "execution_count": null,
   "metadata": {
    "colab": {
     "base_uri": "https://localhost:8080/",
     "height": 369
    },
    "id": "z3rWDs-D1kMc",
    "outputId": "f2a3e268-bff5-4e89-f850-bbf019ff9848"
   },
   "outputs": [],
   "source": [
    "data_cap.head()"
   ]
  },
  {
   "cell_type": "code",
   "execution_count": null,
   "metadata": {
    "colab": {
     "base_uri": "https://localhost:8080/"
    },
    "id": "hL2dUi5m1kMc",
    "outputId": "6db14664-43a7-461d-a18c-94fbcc40cf69"
   },
   "outputs": [],
   "source": [
    "#Analyzing salary hike\n",
    "data_cap['PercentSalaryHike'].describe()"
   ]
  },
  {
   "cell_type": "code",
   "execution_count": null,
   "metadata": {
    "colab": {
     "base_uri": "https://localhost:8080/",
     "height": 406
    },
    "id": "UbKd3BOJ1kMd",
    "outputId": "62a074c8-7db9-4bc1-8c01-d67e63635309"
   },
   "outputs": [],
   "source": [
    "#Plotting histogram of Hike%\n",
    "plt.figure(figsize = (16,6))\n",
    "sns.distplot(data_cap['PercentSalaryHike'], kde = True)\n",
    "plt.show()\n",
    "\n",
    "#Insight 8\n",
    "\"\"\"The salary hike histogram is skewed to the right\"\"\" "
   ]
  },
  {
   "cell_type": "code",
   "execution_count": null,
   "metadata": {
    "colab": {
     "base_uri": "https://localhost:8080/",
     "height": 406
    },
    "id": "r4ykKN1j1kMd",
    "outputId": "cb5d7f4c-ccd1-4466-993f-224e4107c08b"
   },
   "outputs": [],
   "source": [
    "#Plotting box plot for salary hike\n",
    "plt.figure(figsize = (16,6))\n",
    "sns.boxplot('PercentSalaryHike', data = data_cap)\n",
    "plt.show()\n",
    "\n",
    "#Insight 8\n",
    "\"\"\"The median salary hike is 14% and the mean is 15%. The highest salary hike given is 25%\"\"\" "
   ]
  },
  {
   "cell_type": "code",
   "execution_count": null,
   "metadata": {
    "colab": {
     "base_uri": "https://localhost:8080/",
     "height": 388
    },
    "id": "TaUBV-LW1kMd",
    "outputId": "831a336e-848d-44f7-a63b-e3e8f0bac274"
   },
   "outputs": [],
   "source": [
    "#Plotting hike% for each department\n",
    "plt.figure(figsize = (16,6))\n",
    "sns.boxplot(y = 'PercentSalaryHike', x = 'Department', data = data_cap)\n",
    "plt.show()"
   ]
  },
  {
   "cell_type": "code",
   "execution_count": null,
   "metadata": {
    "colab": {
     "base_uri": "https://localhost:8080/",
     "height": 388
    },
    "id": "h4qC2Q1G1kMd",
    "outputId": "f81026fd-217b-447a-f566-3bef62bb5cb1"
   },
   "outputs": [],
   "source": [
    "#Plotting hike% for each job level\n",
    "plt.figure(figsize = (16,6))\n",
    "sns.boxplot(y = 'PercentSalaryHike', x = 'JobLevel', data = data_cap)\n",
    "plt.show()"
   ]
  },
  {
   "cell_type": "code",
   "execution_count": null,
   "metadata": {
    "colab": {
     "base_uri": "https://localhost:8080/",
     "height": 388
    },
    "id": "e5G-DMyn1kMd",
    "outputId": "d9367f12-02b4-4dd1-adfe-2a9f1bf4d2b4"
   },
   "outputs": [],
   "source": [
    "#Plotting hike% for each job satisfaction level\n",
    "plt.figure(figsize = (16,6))\n",
    "sns.boxplot(y = 'PercentSalaryHike', x = 'JobSatisfaction', data = data_cap)\n",
    "plt.show()"
   ]
  },
  {
   "cell_type": "code",
   "execution_count": null,
   "metadata": {
    "colab": {
     "base_uri": "https://localhost:8080/"
    },
    "id": "VGmaZz0z1kMd",
    "outputId": "0edfb78c-a132-4311-abad-15cbeda2922b"
   },
   "outputs": [],
   "source": [
    "grp2 = data_cap.groupby(['JobSatisfaction', 'Attrition'])\n",
    "grp2.groups.keys()"
   ]
  },
  {
   "cell_type": "code",
   "execution_count": null,
   "metadata": {
    "colab": {
     "base_uri": "https://localhost:8080/"
    },
    "id": "MSTL0Yv11kMd",
    "outputId": "cdc9fb3c-7ab2-4b2f-dbdb-980b6c516ef8"
   },
   "outputs": [],
   "source": [
    "count = grp2.get_group((1, 'Yes'))['Attrition'].count()\n",
    "count"
   ]
  },
  {
   "cell_type": "code",
   "execution_count": null,
   "metadata": {
    "colab": {
     "base_uri": "https://localhost:8080/",
     "height": 80
    },
    "id": "Vdk_Fd2J1kMd",
    "outputId": "e1b294e9-19ec-41c4-de5a-64f18ca0f48a"
   },
   "outputs": [],
   "source": [
    "attrbyJobsat = pd.DataFrame(columns = ['Jobsat','Attrition','Count', 'Attr%'])\n",
    "attrbyJobsat.loc[len(attrbyJobsat)] = ['1', 'Yes', count, count/data_cap['JobSatisfaction'].value_counts()[1]*100]\n",
    "attrbyJobsat"
   ]
  },
  {
   "cell_type": "code",
   "execution_count": null,
   "metadata": {
    "colab": {
     "base_uri": "https://localhost:8080/",
     "height": 112
    },
    "id": "3Zllxbb41kMd",
    "outputId": "db68f9b6-085a-45a0-b7dc-91b8162a30f0"
   },
   "outputs": [],
   "source": [
    "count = grp2.get_group((2, 'Yes'))['Attrition'].count()\n",
    "attrbyJobsat.loc[len(attrbyJobsat)] = ['2', 'Yes', count, count/data_cap['JobSatisfaction'].value_counts()[2]*100]\n",
    "attrbyJobsat"
   ]
  },
  {
   "cell_type": "code",
   "execution_count": null,
   "metadata": {
    "colab": {
     "base_uri": "https://localhost:8080/",
     "height": 143
    },
    "id": "ipHq5rU61kMd",
    "outputId": "16d60a6f-cdc6-466c-8a26-21a88b1d0e98"
   },
   "outputs": [],
   "source": [
    "count = grp2.get_group((3, 'Yes'))['Attrition'].count()\n",
    "attrbyJobsat.loc[len(attrbyJobsat)] = ['3', 'Yes', count, count/data_cap['JobSatisfaction'].value_counts()[3]*100]\n",
    "attrbyJobsat"
   ]
  },
  {
   "cell_type": "code",
   "execution_count": null,
   "metadata": {
    "colab": {
     "base_uri": "https://localhost:8080/",
     "height": 175
    },
    "id": "C1EVflHP1kMd",
    "outputId": "f7381c6f-5101-4ac5-d8e2-ec1b046be52c"
   },
   "outputs": [],
   "source": [
    "count = grp2.get_group((4, 'Yes'))['Attrition'].count()\n",
    "attrbyJobsat.loc[len(attrbyJobsat)] = ['4', 'Yes', count, count/data_cap['JobSatisfaction'].value_counts()[4]*100]\n",
    "attrbyJobsat"
   ]
  },
  {
   "cell_type": "code",
   "execution_count": null,
   "metadata": {
    "colab": {
     "base_uri": "https://localhost:8080/",
     "height": 406
    },
    "id": "7-2FASu71kMd",
    "outputId": "a37be89b-cc18-4427-e76a-5a5ef85af69b"
   },
   "outputs": [],
   "source": [
    "#Plotting Attr% for Job satisfaction level\n",
    "plt.figure(figsize = (16,6))\n",
    "sns.barplot(y = 'Attr%', x = 'Jobsat', data = attrbyJobsat)\n",
    "plt.show()\n",
    "\n",
    "#Insight 9\n",
    "\"\"\"employees with job satisfaction level of 1 have the highest attrition % of 22.8%\"\"\" "
   ]
  },
  {
   "cell_type": "code",
   "execution_count": null,
   "metadata": {
    "colab": {
     "base_uri": "https://localhost:8080/",
     "height": 388
    },
    "id": "t2D7Rrkq1kMe",
    "outputId": "40df0852-90eb-4fff-bb48-927eb709f87e"
   },
   "outputs": [],
   "source": [
    "#Plotting hike% for No of years worked\n",
    "plt.figure(figsize = (16,6))\n",
    "sns.boxplot(y = 'PercentSalaryHike', x = 'YearsAtCompany', data = data_cap)\n",
    "plt.show()"
   ]
  },
  {
   "cell_type": "code",
   "execution_count": null,
   "metadata": {
    "colab": {
     "base_uri": "https://localhost:8080/",
     "height": 423
    },
    "id": "j2KydCe51kMe",
    "outputId": "f655d9fa-04dd-4fc6-bbf8-80dbd97ffdb2"
   },
   "outputs": [],
   "source": [
    "#Plotting 'Performance rating' and 'hike%'\n",
    "plt.figure(figsize = (16,6))\n",
    "sns.boxplot(y = 'PercentSalaryHike', x = 'PerformanceRating', data = data_cap)\n",
    "plt.show()\n",
    "\n",
    "#Insight 10\n",
    "\"\"\"employees with rating of 4 have got hikes between (20-25), whereas employees with rating of 3 have got between (11-19)\"\"\" "
   ]
  },
  {
   "cell_type": "code",
   "execution_count": null,
   "metadata": {
    "colab": {
     "base_uri": "https://localhost:8080/"
    },
    "id": "ShX82Ivi1kMe",
    "outputId": "444797c5-5b71-4a1e-b67d-61739add004d"
   },
   "outputs": [],
   "source": [
    "grp1 = data_cap.groupby(['RelationshipSatisfaction', 'Attrition'])\n",
    "grp1.groups.keys()\n"
   ]
  },
  {
   "cell_type": "code",
   "execution_count": null,
   "metadata": {
    "colab": {
     "base_uri": "https://localhost:8080/"
    },
    "id": "-SGzSjmA1kMe",
    "outputId": "96247ffa-80f7-404c-e934-529cf1b08d4f"
   },
   "outputs": [],
   "source": [
    "count = grp1.get_group((1, 'Yes'))['Attrition'].count()\n",
    "count"
   ]
  },
  {
   "cell_type": "code",
   "execution_count": null,
   "metadata": {
    "colab": {
     "base_uri": "https://localhost:8080/",
     "height": 49
    },
    "id": "rCCarrC11kMe",
    "outputId": "ad5e599d-4057-40de-e7d5-71fee39cf96b"
   },
   "outputs": [],
   "source": [
    "attrbyrelsat = pd.DataFrame(columns = ['Relsat', 'Attrition', 'Count', 'Attr%'])\n",
    "attrbyrelsat"
   ]
  },
  {
   "cell_type": "code",
   "execution_count": null,
   "metadata": {
    "colab": {
     "base_uri": "https://localhost:8080/",
     "height": 80
    },
    "id": "a9N1HASr1kMe",
    "outputId": "ec730cc7-6b74-4485-e722-1b314f05c1d3"
   },
   "outputs": [],
   "source": [
    "attrbyrelsat.loc[len(attrbyrelsat)] = ['1', 'Yes', count, count/data_cap['RelationshipSatisfaction'].value_counts()[1]*100]\n",
    "attrbyrelsat"
   ]
  },
  {
   "cell_type": "code",
   "execution_count": null,
   "metadata": {
    "colab": {
     "base_uri": "https://localhost:8080/",
     "height": 112
    },
    "id": "yI3sd7LH1kMe",
    "outputId": "ae1c3fb0-ddd7-4bfe-edbd-6e5a843cc16f"
   },
   "outputs": [],
   "source": [
    "count = grp1.get_group((2, 'Yes'))['Attrition'].count()\n",
    "attrbyrelsat.loc[len(attrbyrelsat)] = ['2', 'Yes', count,count/data_cap['RelationshipSatisfaction'].value_counts()[2]*100]\n",
    "attrbyrelsat"
   ]
  },
  {
   "cell_type": "code",
   "execution_count": null,
   "metadata": {
    "colab": {
     "base_uri": "https://localhost:8080/",
     "height": 143
    },
    "id": "1P24JPBB1kMe",
    "outputId": "6101bd8d-93c4-4b3d-998e-786b650f6300"
   },
   "outputs": [],
   "source": [
    "count = grp1.get_group((3, 'Yes'))['Attrition'].count()\n",
    "attrbyrelsat.loc[len(attrbyrelsat)] = ['3', 'Yes', count, count/data_cap['RelationshipSatisfaction'].value_counts()[3]*100]\n",
    "attrbyrelsat"
   ]
  },
  {
   "cell_type": "code",
   "execution_count": null,
   "metadata": {
    "colab": {
     "base_uri": "https://localhost:8080/",
     "height": 175
    },
    "id": "4T4y4pMz1kMe",
    "outputId": "0e209598-831d-4b79-e79a-a5b0b10502d5"
   },
   "outputs": [],
   "source": [
    "count = grp1.get_group((4, 'Yes'))['Attrition'].count()\n",
    "attrbyrelsat.loc[len(attrbyrelsat)] = ['4', 'Yes', count, count/data_cap['RelationshipSatisfaction'].value_counts()[4]*100]\n",
    "attrbyrelsat"
   ]
  },
  {
   "cell_type": "code",
   "execution_count": null,
   "metadata": {
    "colab": {
     "base_uri": "https://localhost:8080/",
     "height": 406
    },
    "id": "xfDHHvet1kMe",
    "outputId": "57c928ef-c3f4-4130-a889-e5f3eafc3a8a"
   },
   "outputs": [],
   "source": [
    "plt.figure(figsize = (16,6))\n",
    "sns.barplot(y = 'Attr%', x = 'Relsat', data = attrbyrelsat)\n",
    "plt.show()\n",
    "\n",
    "#Insight 11\n",
    "\"\"\"employees with relation satisfaction of 1 have highest attrition numbers at 20.65%.\"\"\" "
   ]
  },
  {
   "cell_type": "markdown",
   "metadata": {
    "id": "z_2y0sbX1kMe"
   },
   "source": [
    "# Data preprocessing"
   ]
  },
  {
   "cell_type": "code",
   "execution_count": null,
   "metadata": {
    "colab": {
     "base_uri": "https://localhost:8080/"
    },
    "id": "Negxv6aR1kMe",
    "outputId": "21bf6b69-df11-4bdc-8295-009a5abba82f"
   },
   "outputs": [],
   "source": [
    "#Checking for unwanted columns\n",
    "print(\"EmployeeCount unique values::\", data_cap['EmployeeCount'].unique())\n",
    "print(\"Over18 unique values::\",data_cap['Over18'].unique())\n",
    "print(\"StandardHours unique values::\",data_cap['StandardHours'].unique())\n",
    "#There is only one value for above column hence dropping it as they will not affect our model\n"
   ]
  },
  {
   "cell_type": "code",
   "execution_count": null,
   "metadata": {
    "id": "sD5jDX9i1kMe"
   },
   "outputs": [],
   "source": [
    "data_cap.drop(columns = ['EmployeeCount', 'Over18','StandardHours', 'EmployeeNumber'], inplace = True)"
   ]
  },
  {
   "cell_type": "code",
   "execution_count": null,
   "metadata": {
    "colab": {
     "base_uri": "https://localhost:8080/"
    },
    "id": "YhTK8eoL1kMf",
    "outputId": "39e894b8-3937-4af5-e5cb-c3b0e6cddc70"
   },
   "outputs": [],
   "source": [
    "data_cap.columns.tolist()"
   ]
  },
  {
   "cell_type": "code",
   "execution_count": null,
   "metadata": {
    "colab": {
     "base_uri": "https://localhost:8080/"
    },
    "id": "YT4nbZg21kMf",
    "outputId": "c3283ec2-1594-4ac0-de20-2b460495be44"
   },
   "outputs": [],
   "source": [
    "data_cap.shape"
   ]
  },
  {
   "cell_type": "markdown",
   "metadata": {
    "id": "ZePISM0K1kMf"
   },
   "source": [
    "### Converting labels to nominal data"
   ]
  },
  {
   "cell_type": "code",
   "execution_count": null,
   "metadata": {
    "id": "8PdHwbm61kMf"
   },
   "outputs": [],
   "source": [
    "from sklearn import preprocessing\n",
    "\n",
    "def labelencoder(df):\n",
    "    temp_df = df.copy()\n",
    "    le = preprocessing.LabelEncoder()\n",
    "    \n",
    "    temp_df[\"Attrition\"] = le.fit_transform(temp_df[\"Attrition\"])\n",
    "    temp_df[\"BusinessTravel\"] = le.fit_transform(temp_df[\"BusinessTravel\"])\n",
    "    temp_df[\"Department\"] = le.fit_transform(temp_df[\"Department\"])\n",
    "    temp_df[\"EducationField\"] = le.fit_transform(temp_df[\"EducationField\"])\n",
    "    temp_df[\"Gender\"] = le.fit_transform(temp_df[\"Gender\"])\n",
    "    temp_df[\"JobRole\"] = le.fit_transform(temp_df[\"JobRole\"])\n",
    "    temp_df[\"MaritalStatus\"] = le.fit_transform(temp_df[\"MaritalStatus\"])\n",
    "    temp_df[\"OverTime\"] = le.fit_transform(temp_df[\"OverTime\"])\n",
    "    return temp_df\n",
    "\n",
    "encoded_cap_data = labelencoder(data_cap)\n",
    "\n",
    "\n"
   ]
  },
  {
   "cell_type": "markdown",
   "metadata": {
    "id": "IgON7qp8VRBP"
   },
   "source": [
    "## Modelling using Random Forest"
   ]
  },
  {
   "cell_type": "code",
   "execution_count": null,
   "metadata": {
    "id": "ow3D0gk_1kMf"
   },
   "outputs": [],
   "source": [
    "#Converting 'Attrition', 'BusinessTravel', 'Department', 'EducationField', 'Gender', 'JobRole'\n",
    "#'MaritalStatus', 'overtime'\n",
    "\n",
    "from sklearn.model_selection import train_test_split\n",
    "from sklearn.ensemble import RandomForestClassifier\n",
    "from sklearn.metrics import recall_score\n",
    "from sklearn.metrics import accuracy_score\n",
    "from sklearn.metrics import roc_curve, auc,confusion_matrix\n",
    "import numpy as np"
   ]
  },
  {
   "cell_type": "code",
   "execution_count": null,
   "metadata": {
    "colab": {
     "base_uri": "https://localhost:8080/",
     "height": 369
    },
    "id": "oLNNORYA1kMf",
    "outputId": "41d20a91-e949-4c19-9735-98d70ad0ac65"
   },
   "outputs": [],
   "source": [
    "data_cap.head()"
   ]
  },
  {
   "cell_type": "code",
   "execution_count": null,
   "metadata": {
    "id": "USo_QwNe1kMf"
   },
   "outputs": [],
   "source": [
    "#Segregating the Independent and the dependant variable\n",
    "y = encoded_cap_data[\"Attrition\"].values\n",
    "X = encoded_cap_data.drop([\"Attrition\"],axis =1)"
   ]
  },
  {
   "cell_type": "code",
   "execution_count": null,
   "metadata": {
    "id": "iCw5PW9a1kMf"
   },
   "outputs": [],
   "source": [
    "#Splitting into training and testing\n",
    "X_train, X_test, y_train, y_test = train_test_split(X,y,test_size =0.2)\n"
   ]
  },
  {
   "cell_type": "code",
   "execution_count": null,
   "metadata": {
    "colab": {
     "base_uri": "https://localhost:8080/"
    },
    "id": "-4ATgq-41kMf",
    "outputId": "bf5260aa-5735-4d06-85b9-a12d622c11e0"
   },
   "outputs": [],
   "source": [
    "X_train.shape"
   ]
  },
  {
   "cell_type": "markdown",
   "metadata": {},
   "source": [
    "RANDOM FOREST"
   ]
  },
  {
   "cell_type": "code",
   "execution_count": null,
   "metadata": {
    "colab": {
     "base_uri": "https://localhost:8080/"
    },
    "id": "RGFEB-Sz1kMf",
    "outputId": "40d85dc1-5989-45b3-c25a-d57af01bbb52"
   },
   "outputs": [],
   "source": [
    "#Build the decision tree model with tree size 50\n",
    "model_HR_RF = RandomForestClassifier(n_estimators = 50, random_state = 0)\n",
    "model_HR_RF.fit(X_train, y_train)\n",
    "model_HR_score_train = model_HR_RF.score(X_train, y_train)\n",
    "print(\"Training score: \",model_HR_score_train)\n",
    "model_HR_score_test = model_HR_RF.score(X_test, y_test)\n",
    "print(\"Testing score: \",model_HR_score_test)\n"
   ]
  },
  {
   "cell_type": "code",
   "execution_count": null,
   "metadata": {
    "id": "t-oSDc2t1kMf"
   },
   "outputs": [],
   "source": [
    "#caluclating the probabilities for the AUC curve\n",
    "#Decision treemodel_dt_2\n",
    "y_pred_prob = model_HR_RF.predict_proba(X_test)[:, 1]"
   ]
  },
  {
   "cell_type": "code",
   "execution_count": null,
   "metadata": {
    "id": "aDbN2Ggq1kMf"
   },
   "outputs": [],
   "source": [
    "#Predicting the Attrition for X_test\n",
    "y_pred_rf = model_HR_RF.predict(X_test)"
   ]
  },
  {
   "cell_type": "markdown",
   "metadata": {
    "id": "ViC4rVtV1kMf"
   },
   "source": [
    "### Performance metrics"
   ]
  },
  {
   "cell_type": "code",
   "execution_count": null,
   "metadata": {
    "colab": {
     "base_uri": "https://localhost:8080/"
    },
    "id": "pjyKfbCN1kMf",
    "outputId": "66bb49d0-4edd-4b39-d185-d69b8d803523"
   },
   "outputs": [],
   "source": [
    "# Model Accuracy:\n",
    "print (\"Model Accuracy is::\", (accuracy_score(y_test,y_pred_rf))*100)\n",
    "# Recall\n",
    "print(\"Model recall is::\", (recall_score(y_test, y_pred_rf))*100)\n",
    "\n",
    "RF_Accuracy = accuracy_score(y_test,y_pred_rf)*100"
   ]
  },
  {
   "cell_type": "code",
   "execution_count": null,
   "metadata": {
    "id": "SOzTG7Tc1kMf"
   },
   "outputs": [],
   "source": [
    "#Area under the curve\n",
    "fpr_dt, tpr_dt, _ = roc_curve(y_test, y_pred_prob)\n",
    "roc_auc_dt = auc(fpr_dt, tpr_dt)"
   ]
  },
  {
   "cell_type": "code",
   "execution_count": null,
   "metadata": {
    "colab": {
     "base_uri": "https://localhost:8080/"
    },
    "id": "SGegHWa5yjNS",
    "outputId": "74b26cf2-5630-4886-8c62-65002c6f7957"
   },
   "outputs": [],
   "source": [
    "from sklearn.metrics import classification_report\n",
    "model_report = classification_report(y_test, y_pred_rf)\n",
    "print(model_report)"
   ]
  },
  {
   "cell_type": "code",
   "execution_count": null,
   "metadata": {
    "colab": {
     "base_uri": "https://localhost:8080/",
     "height": 295
    },
    "id": "CsfYKb0J1kMf",
    "outputId": "e0a38091-e19d-4dc2-e1e8-585fa3a2e0b9"
   },
   "outputs": [],
   "source": [
    "plt.figure(1)\n",
    "lw = 2\n",
    "plt.plot(fpr_dt, tpr_dt, color='green',\n",
    "         lw=lw, label='Random Forest (AUC = %0.2f)' % roc_auc_dt)\n",
    "plt.plot([0, 1], [0, 1], color='navy', lw=lw, linestyle='--')\n",
    "\n",
    "plt.xlim([0.0, 1.0])\n",
    "plt.ylim([0.0, 1.05])\n",
    "plt.xlabel('False Positive Rate')\n",
    "plt.ylabel('True Positive Rate')\n",
    "plt.title('Area Under Curve')\n",
    "plt.legend(loc=\"lower right\")\n",
    "plt.show()"
   ]
  },
  {
   "cell_type": "code",
   "execution_count": null,
   "metadata": {
    "id": "nRDQyL5m1kMg"
   },
   "outputs": [],
   "source": [
    "from sklearn.metrics import roc_auc_score\n",
    "\n",
    "confusion_mat = confusion_matrix(y_test,y_pred_rf)\n",
    "\n",
    "correctly_classified_RF = (list(confusion_mat)[0][0]+list(confusion_mat)[0][1])/len(y_test)*100\n",
    "incorrectly_classified_RF = (list(confusion_mat)[1][0]+list(confusion_mat)[1][1])/len(y_test)*100\n",
    "\n",
    "\n",
    "roc_RF = roc_auc_score(y_test,y_pred_rf)*100\n"
   ]
  },
  {
   "cell_type": "code",
   "execution_count": null,
   "metadata": {
    "id": "vobFGtLA1kMg"
   },
   "outputs": [],
   "source": [
    "import itertools\n",
    "def plot_confusion_matrix(model, model_name,normalize=False): # This function prints and plots the confusion matrix.\n",
    "    cm = confusion_matrix(y_test, model, labels=[0, 1])\n",
    "    classes=[\"Stayed\", \"Left\"]\n",
    "    cmap = plt.cm.Blues\n",
    "    title = f\"Confusion Matrix {model_name}\"\n",
    "    if normalize:\n",
    "        cm = cm.astype('float') / cm.sum(axis=1)[:, np.newaxis]\n",
    "        cm = np.around(cm, decimals=3)\n",
    "    plt.imshow(cm, interpolation='nearest', cmap=cmap)\n",
    "    plt.title(title)\n",
    "    plt.colorbar()\n",
    "    tick_marks = np.arange(len(classes))\n",
    "    plt.xticks(tick_marks, classes, rotation=45)\n",
    "    plt.yticks(tick_marks, classes)\n",
    "    thresh = cm.max() / 2.\n",
    "    for i, j in itertools.product(range(cm.shape[0]), range(cm.shape[1])):\n",
    "        plt.text(j, i, cm[i, j],\n",
    "                 horizontalalignment=\"center\",\n",
    "                 color=\"white\" if cm[i, j] > thresh else \"black\")\n",
    "    plt.tight_layout()\n",
    "    plt.ylabel('True label')\n",
    "    plt.xlabel('Predicted label')"
   ]
  },
  {
   "cell_type": "code",
   "execution_count": null,
   "metadata": {
    "colab": {
     "base_uri": "https://localhost:8080/",
     "height": 438
    },
    "id": "ViwPgyAX1kMg",
    "outputId": "a6e90ab0-ee2b-47d0-d85d-eab3db8e5371"
   },
   "outputs": [],
   "source": [
    "plt.figure(figsize=(6,6))\n",
    "plot_confusion_matrix(y_pred_rf, ' (Random Forest)',normalize=False)\n",
    "plt.show()"
   ]
  },
  {
   "cell_type": "code",
   "execution_count": null,
   "metadata": {
    "colab": {
     "base_uri": "https://localhost:8080/",
     "height": 1000
    },
    "id": "SmW1LdYN1kMg",
    "outputId": "50341372-3c86-4b13-f978-27c5f8d288ef"
   },
   "outputs": [],
   "source": [
    "importances= model_HR_RF.feature_importances_\n",
    "indices = np.argsort(importances)[::-1]\n",
    "\n",
    "# Print the feature ranking\n",
    "print(\"Feature ranking:\")\n",
    "\n",
    "for f in range(X.shape[1]):\n",
    "    print(\"%d. feature %d (%f)\" % (f + 1, indices[f], importances[indices[f]]))\n",
    "    \n",
    "f, ax = plt.subplots(figsize=(50,25))\n",
    "plt.title(\"Feature ranking\", fontsize = 11)\n",
    "plt.bar(range(X_train.shape[1]), importances[indices],\n",
    "    color=\"b\", \n",
    "    align=\"center\")\n",
    "plt.xticks(range(X_train.shape[1]), X_train.columns)\n",
    "plt.xlim([-1, X_train.shape[1]])\n",
    "plt.ylabel(\"importance\", fontsize = 11)\n",
    "plt.xlabel(\"index of the feature\", fontsize = 20)"
   ]
  },
  {
   "cell_type": "markdown",
   "metadata": {
    "id": "lGm_ESlR1kMg"
   },
   "source": [
    "## Modelling using Decision Tree Classifier"
   ]
  },
  {
   "cell_type": "code",
   "execution_count": null,
   "metadata": {
    "id": "mDO_4Ng5VRBQ"
   },
   "outputs": [],
   "source": [
    "#importing DecisionTreeClassifier from ScikitLearn and GridSearchCV for Auto hyperparameter tuning\n",
    "\n",
    "from sklearn.tree import DecisionTreeClassifier\n",
    "\n",
    "from sklearn.model_selection import GridSearchCV"
   ]
  },
  {
   "cell_type": "code",
   "execution_count": null,
   "metadata": {
    "colab": {
     "base_uri": "https://localhost:8080/"
    },
    "id": "VdgJhzTrVRBQ",
    "outputId": "c55e244c-1b82-4337-89f8-be72b683db20"
   },
   "outputs": [],
   "source": [
    "#Fitting Decsion Tree classifier to Train and test\n",
    "\n",
    "\n",
    "model_HR_DT = DecisionTreeClassifier(random_state=67,max_depth=6)\n",
    "model_HR_DT.fit(X_train, y_train)\n",
    "\n",
    "model_dt_score_train = model_HR_DT.score(X_train, y_train)\n",
    "print(\"Training score: \",model_dt_score_train)\n",
    "model_dt_score_test = model_HR_DT.score(X_test, y_test)\n",
    "print(\"Testing score: \",model_dt_score_test)\n"
   ]
  },
  {
   "cell_type": "code",
   "execution_count": null,
   "metadata": {
    "id": "6ByqZb_GVRBQ"
   },
   "outputs": [],
   "source": [
    "#Predicting the Attrition for X_test\n",
    "y_pred_dt = model_HR_DT.predict(X_test)"
   ]
  },
  {
   "cell_type": "code",
   "execution_count": null,
   "metadata": {},
   "outputs": [],
   "source": [
    "# Model Accuracy:\n",
    "print (\"Model Accuracy is::\", (accuracy_score(y_test,y_pred_dt))*100)\n",
    "# Recall\n",
    "print(\"Model recall is::\", (recall_score(y_test, y_pred_dt))*100)\n",
    "\n",
    "DT_Accuracy = accuracy_score(y_test,y_pred_dt)*100"
   ]
  },
  {
   "cell_type": "code",
   "execution_count": null,
   "metadata": {
    "colab": {
     "base_uri": "https://localhost:8080/",
     "height": 432
    },
    "id": "fPB1YJvfVRBQ",
    "outputId": "95f6667d-4e04-4687-be09-d7afa995ab36"
   },
   "outputs": [],
   "source": [
    "plt.figure(figsize=(6,6))\n",
    "plot_confusion_matrix(y_pred_dt, ' (Decision Tree)',normalize=False)\n",
    "plt.show()"
   ]
  },
  {
   "cell_type": "markdown",
   "metadata": {
    "id": "pN6McKlKVRBQ"
   },
   "source": [
    "### Performing GridSearchCV for Decision Tree"
   ]
  },
  {
   "cell_type": "code",
   "execution_count": null,
   "metadata": {
    "colab": {
     "base_uri": "https://localhost:8080/"
    },
    "id": "BXaiNlPQVRBQ",
    "outputId": "21e10ec2-17c2-4053-d7db-e13f26d80fa1"
   },
   "outputs": [],
   "source": [
    "#Custom GridSearch Parameters\n",
    "\n",
    "decisionT_params = {\n",
    "                'criterion':['gini','entropy'],\n",
    "                'min_samples_split': range(1,10),\n",
    "                'max_depth':range(1,10), \n",
    "                'min_samples_leaf':range(1,5)\n",
    "                    }\n",
    "\n",
    "grid_search_cv = GridSearchCV(DecisionTreeClassifier(random_state=42), decisionT_params, verbose=1, cv=5)\n",
    "\n",
    "\n",
    "\n",
    "#Fitting all the GridSearch parameters combinations to X_train and y_train\n",
    "grid_search_cv.fit(X_train, y_train)"
   ]
  },
  {
   "cell_type": "code",
   "execution_count": null,
   "metadata": {
    "colab": {
     "base_uri": "https://localhost:8080/"
    },
    "id": "DOeGcPioVRBQ",
    "outputId": "990d0243-1ad4-4d80-c405-cc72cf3ad256"
   },
   "outputs": [],
   "source": [
    "grid_search_cv.best_estimator_"
   ]
  },
  {
   "cell_type": "code",
   "execution_count": null,
   "metadata": {
    "colab": {
     "base_uri": "https://localhost:8080/"
    },
    "id": "5485i5P6VRBQ",
    "outputId": "75fe389e-fe78-4de4-adb3-c60dc80e9b9b"
   },
   "outputs": [],
   "source": [
    "#Fitting Random Forestwith depth as 6 and with random_State\n",
    "\n",
    "\n",
    "model_HR_DT = DecisionTreeClassifier(criterion='entropy', max_depth=9, random_state=42)\n",
    "model_HR_DT.fit(X_train, y_train)\n",
    "\n",
    "model_dt_score_train = model_HR_DT.score(X_train, y_train)\n",
    "print(\"Training score: \",model_dt_score_train)\n",
    "model_dt_score_test = model_HR_DT.score(X_test, y_test)\n",
    "print(\"Testing score: \",model_dt_score_test)\n",
    "\n",
    "\n",
    "#Predicting the Attrition for X_test\n",
    "y_pred_dt = model_HR_DT.predict(X_test)"
   ]
  },
  {
   "cell_type": "code",
   "execution_count": null,
   "metadata": {
    "colab": {
     "base_uri": "https://localhost:8080/",
     "height": 432
    },
    "id": "Tasc3BMkVRBR",
    "outputId": "32734701-c366-47c8-dfeb-14ef05c48e49"
   },
   "outputs": [],
   "source": [
    "plt.figure(figsize=(6,6))\n",
    "plot_confusion_matrix(y_pred_dt, ' (Decsion Tree after GridSearch)',normalize=False)\n",
    "plt.show()"
   ]
  },
  {
   "cell_type": "code",
   "execution_count": null,
   "metadata": {
    "colab": {
     "base_uri": "https://localhost:8080/"
    },
    "id": "lo-eoLdwq4VW",
    "outputId": "22efca47-6a77-499e-e362-5e14b1ff2b9a"
   },
   "outputs": [],
   "source": [
    "DT_Accuracy = accuracy_score(y_test,y_pred_dt)*100\n",
    "\n",
    "\n",
    "confusion_mat_DT = confusion_matrix(y_test,y_pred_dt)\n",
    "print(confusion_mat_DT)\n",
    "\n",
    "correctly_classified_DT = ((list(confusion_mat_DT)[0][0]+list(confusion_mat_DT)[0][1])/len(y_test))*100\n",
    "incorrectly_classified_DT = (list(confusion_mat_DT)[1][0]+list(confusion_mat_DT)[1][1])/len(y_test)*100\n",
    "\n",
    "roc_DT = roc_auc_score(y_test,y_pred_dt)*100\n"
   ]
  },
  {
   "cell_type": "code",
   "execution_count": null,
   "metadata": {
    "colab": {
     "base_uri": "https://localhost:8080/"
    },
    "id": "x-W9bt1NyuMb",
    "outputId": "e4c8a9f1-fe02-4c56-97da-9c96a6be7ab6"
   },
   "outputs": [],
   "source": [
    "model_report = classification_report(y_test, y_pred_dt)\n",
    "print(model_report)"
   ]
  },
  {
   "cell_type": "code",
   "execution_count": null,
   "metadata": {
    "colab": {
     "base_uri": "https://localhost:8080/",
     "height": 295
    },
    "id": "EXK4HC2dVRBR",
    "outputId": "cf09d440-28ea-4804-e7dc-a2e8dfeb7f31"
   },
   "outputs": [],
   "source": [
    "fpr_dt, tpr_dt, _ = roc_curve(y_test, y_pred_dt)\n",
    "roc_auc_dt = auc(fpr_dt, tpr_dt)\n",
    "plt.figure(1)\n",
    "lw = 2\n",
    "plt.plot(fpr_dt, tpr_dt,\n",
    "         lw=lw, label='Decision Tree(AUC = %0.2f)' % roc_auc_dt)\n",
    "plt.plot([0, 1], [0, 1], color='navy', lw=lw, linestyle='--')\n",
    "\n",
    "plt.xlim([0.0, 1.0])\n",
    "plt.ylim([0.0, 1.05])\n",
    "plt.xlabel('False Positive Rate')\n",
    "plt.ylabel('True Positive Rate')\n",
    "plt.title('Area Under Curve')\n",
    "plt.legend(loc=\"lower right\")\n",
    "plt.show()"
   ]
  },
  {
   "cell_type": "markdown",
   "metadata": {
    "id": "o3iQfWwAVRBR"
   },
   "source": [
    "# Prediction using Logistic Regression"
   ]
  },
  {
   "cell_type": "code",
   "execution_count": null,
   "metadata": {
    "colab": {
     "base_uri": "https://localhost:8080/"
    },
    "id": "Jd-0hHUdVRBR",
    "outputId": "59631c9a-21b1-4ffd-b4b7-47c694168989"
   },
   "outputs": [],
   "source": [
    "from sklearn.linear_model import LogisticRegression\n",
    "from sklearn.metrics import accuracy_score\n",
    "from sklearn.metrics import ConfusionMatrixDisplay\n",
    "\n",
    "logistic_model = LogisticRegression(solver='liblinear',random_state=0).fit(X_train,y_train)\n",
    "\n",
    "print(\"Train Accuracy : {:.2f} %\".format(accuracy_score(logistic_model.predict(X_train),y_train)))\n",
    "print(\"Test Accuracy : {:.2f} %\".format(accuracy_score(logistic_model.predict(X_test),y_test)))\n",
    "\n",
    "y_pred_lr = logistic_model.predict(X_test)"
   ]
  },
  {
   "cell_type": "code",
   "execution_count": null,
   "metadata": {
    "colab": {
     "base_uri": "https://localhost:8080/"
    },
    "id": "KQcjY6Oay3FX",
    "outputId": "a86e6c96-6cea-4440-8f2f-67f4b97b2f77"
   },
   "outputs": [],
   "source": [
    "model_report = classification_report(y_test, y_pred_lr)\n",
    "print(model_report)"
   ]
  },
  {
   "cell_type": "code",
   "execution_count": null,
   "metadata": {},
   "outputs": [],
   "source": [
    "# Model Accuracy:\n",
    "print (\"Model Accuracy is::\", (accuracy_score(y_test,y_pred_lr))*100)\n",
    "# Recall\n",
    "print(\"Model recall is::\", (recall_score(y_test, y_pred_lr))*100)\n",
    "\n",
    "lr_Accuracy = accuracy_score(y_test,y_pred_lr)*100"
   ]
  },
  {
   "cell_type": "code",
   "execution_count": null,
   "metadata": {
    "colab": {
     "base_uri": "https://localhost:8080/"
    },
    "id": "5WyuKobEq4VW",
    "outputId": "a94ba1f6-08fe-4b98-8fba-45d24797602b"
   },
   "outputs": [],
   "source": [
    "LR_Accuracy = accuracy_score(y_test,y_pred_lr)*100\n",
    "print(LR_Accuracy)\n",
    "\n",
    "\n",
    "\n",
    "\n",
    "confusion_mat = confusion_matrix(y_test,y_pred_lr)\n",
    "print(confusion_mat)\n",
    "\n",
    "correctly_classified_LR = (list(confusion_mat)[0][0]+list(confusion_mat)[0][1])/len(y_test)*100\n",
    "incorrectly_classified_LR = (list(confusion_mat)[1][0]+list(confusion_mat)[1][1])/len(y_test)*100\n",
    "\n",
    "roc_LR = roc_auc_score(y_test,y_pred_lr)*100\n"
   ]
  },
  {
   "cell_type": "code",
   "execution_count": null,
   "metadata": {
    "colab": {
     "base_uri": "https://localhost:8080/",
     "height": 359
    },
    "id": "hX4U6rKsVRBR",
    "outputId": "4ff5115e-b3aa-4f67-a123-5f28a7349db0"
   },
   "outputs": [],
   "source": [
    "\n",
    "cm = confusion_matrix(y_test,logistic_model.predict(X_test))\n",
    "classes = [\"0\",\"1\"]\n",
    "disp = ConfusionMatrixDisplay(confusion_matrix=cm,\n",
    "                              display_labels=classes)\n",
    "\n",
    "fig, ax = plt.subplots(figsize=(6,6))\n",
    "plt.title(\"Confusion Matrix (Logistic Regression)\")\n",
    "disp = disp.plot(ax=ax,cmap='Reds')\n",
    "plt.show()"
   ]
  },
  {
   "cell_type": "code",
   "execution_count": null,
   "metadata": {
    "colab": {
     "base_uri": "https://localhost:8080/",
     "height": 295
    },
    "id": "6pCaDJ1MtTHI",
    "outputId": "57b5456c-9a7a-48d5-bdf1-3a3ebeea3b6a"
   },
   "outputs": [],
   "source": [
    "fpr_dt, tpr_dt, _ = roc_curve(y_test, y_pred_lr)\n",
    "roc_auc_dt = auc(fpr_dt, tpr_dt)\n",
    "plt.figure(1)\n",
    "lw = 2\n",
    "plt.plot(fpr_dt, tpr_dt,\n",
    "         lw=lw, label='Linear Regrssion(AUC = %0.2f)' % roc_auc_dt)\n",
    "plt.plot([0, 1], [0, 1], color='navy', lw=lw, linestyle='--')\n",
    "\n",
    "plt.xlim([0.0, 1.0])\n",
    "plt.ylim([0.0, 1.05])\n",
    "plt.xlabel('False Positive Rate')\n",
    "plt.ylabel('True Positive Rate')\n",
    "plt.title('Area Under Curve')\n",
    "plt.legend(loc=\"lower right\")\n",
    "plt.show()"
   ]
  },
  {
   "cell_type": "markdown",
   "metadata": {
    "id": "Xjj7CLTpVRBR"
   },
   "source": [
    "# Classification using Naive Bayes"
   ]
  },
  {
   "cell_type": "code",
   "execution_count": null,
   "metadata": {
    "id": "Lu3wkTivVRBR"
   },
   "outputs": [],
   "source": [
    "from sklearn.naive_bayes import GaussianNB\n",
    "from sklearn.naive_bayes import MultinomialNB\n",
    "\n",
    "# Init the Gaussian Classifier\n",
    "model_nb = GaussianNB()\n",
    "\n",
    "# Train the model\n",
    "model_nb.fit(X_train, y_train)\n",
    "# Predict Output \n",
    "y_pred_nb = model_nb.predict(X_test)"
   ]
  },
  {
   "cell_type": "code",
   "execution_count": null,
   "metadata": {
    "colab": {
     "base_uri": "https://localhost:8080/",
     "height": 313
    },
    "id": "r_7Yj17SVRBR",
    "outputId": "799dc448-b99f-4f23-87d8-3ee2fa34cec6"
   },
   "outputs": [],
   "source": [
    "# Plot Confusion Matrix\n",
    "# plt.figure(figsize=(10,8))\n",
    "mat = confusion_matrix(y_pred_nb, y_test)\n",
    "names = np.unique(y_pred_nb)\n",
    "sns.heatmap(mat, square=True, annot=True, fmt='d', cbar=False,\n",
    "            xticklabels=names, yticklabels=names,cmap='Blues')\n",
    "plt.title('Confusion Matrix (Naive Bayes)')\n",
    "plt.xlabel('Truth')\n",
    "plt.ylabel('Predicted')\n",
    "plt.plot()"
   ]
  },
  {
   "cell_type": "markdown",
   "metadata": {
    "id": "0xLv0zmcVRBR"
   },
   "source": [
    "### Naive bayes after hyperparameter tuning"
   ]
  },
  {
   "cell_type": "code",
   "execution_count": null,
   "metadata": {
    "colab": {
     "base_uri": "https://localhost:8080/"
    },
    "id": "C9bZqc2vVRBR",
    "outputId": "f95194d1-5682-428c-f0b4-1254e473aa8f"
   },
   "outputs": [],
   "source": [
    "param_grid_nb = {\n",
    "    'var_smoothing': np.logspace(0,-9, num=100)\n",
    "}\n",
    "\n",
    "\n",
    "nb_classifier = GaussianNB()\n",
    "\n",
    "params_NB = {'var_smoothing': np.logspace(0,-9, num=100)}\n",
    "gs_NB = GridSearchCV(estimator=nb_classifier, \n",
    "                 param_grid=params_NB, \n",
    "                 cv=4,   # use any cross validation technique \n",
    "                 verbose=1, \n",
    "                 scoring='accuracy') \n",
    "gs_NB.fit(X_train, y_train)\n",
    "gs_NB.best_params_"
   ]
  },
  {
   "cell_type": "code",
   "execution_count": null,
   "metadata": {
    "id": "WzekOkIaVRBR"
   },
   "outputs": [],
   "source": [
    "y_pred_nb = gs_NB.predict(X_test)"
   ]
  },
  {
   "cell_type": "code",
   "execution_count": null,
   "metadata": {
    "colab": {
     "base_uri": "https://localhost:8080/"
    },
    "id": "ZjUCw9gGVRBR",
    "outputId": "e6ac0d97-b89e-45c7-d066-42bed13562d9"
   },
   "outputs": [],
   "source": [
    "# Decision tree with depth = 4\n",
    "model_nb_score_train = gs_NB.score(X_train, y_train)\n",
    "print(\"Training score: \",model_nb_score_train)\n",
    "model_nb_score_test = gs_NB.score(X_test, y_test)\n",
    "print(\"Testing score: \",model_nb_score_test)\n"
   ]
  },
  {
   "cell_type": "code",
   "execution_count": null,
   "metadata": {},
   "outputs": [],
   "source": []
  },
  {
   "cell_type": "code",
   "execution_count": null,
   "metadata": {
    "colab": {
     "base_uri": "https://localhost:8080/"
    },
    "id": "OjekYQzmq4VX",
    "outputId": "c7a1564a-5646-4c4b-ffac-9091eee1eed0"
   },
   "outputs": [],
   "source": [
    "NB_Accuracy = accuracy_score(y_test,y_pred_nb)*100\n",
    "print(NB_Accuracy)\n",
    "\n",
    "\n",
    "\n",
    "confusion_mat = confusion_matrix(y_test,y_pred_nb)\n",
    "print(confusion_mat)\n",
    "correctly_classified_NB = (list(confusion_mat)[0][0]+list(confusion_mat)[0][1])/len(y_test)*100\n",
    "incorrectly_classified_NB = (list(confusion_mat)[1][0]+list(confusion_mat)[1][1])/len(y_test)*100\n",
    "\n",
    "\n",
    "roc_NB = roc_auc_score(y_test,y_pred_nb)*100"
   ]
  },
  {
   "cell_type": "code",
   "execution_count": null,
   "metadata": {
    "colab": {
     "base_uri": "https://localhost:8080/"
    },
    "id": "2gJ13_8-0ysw",
    "outputId": "f94691f3-c759-463f-a66b-f54b4f1acc3b"
   },
   "outputs": [],
   "source": [
    "model_report = classification_report(y_test, y_pred_nb)\n",
    "print(model_report)"
   ]
  },
  {
   "cell_type": "code",
   "execution_count": null,
   "metadata": {},
   "outputs": [],
   "source": [
    "# Model Accuracy:\n",
    "print (\"Model Accuracy is::\", (accuracy_score(y_test,y_pred_nb))*100)\n",
    "# Recall\n",
    "print(\"Model recall is::\", (recall_score(y_test, y_pred_nb))*100)\n",
    "\n",
    "nb_Accuracy = accuracy_score(y_test,y_pred_nb)*100"
   ]
  },
  {
   "cell_type": "code",
   "execution_count": null,
   "metadata": {
    "colab": {
     "base_uri": "https://localhost:8080/",
     "height": 295
    },
    "id": "N46idSqdvvqv",
    "outputId": "eae02906-131a-40b6-fac4-97cd59fd2094"
   },
   "outputs": [],
   "source": [
    "fpr_dt, tpr_dt, _ = roc_curve(y_test, y_pred_nb)\n",
    "roc_auc_dt = auc(fpr_dt, tpr_dt)\n",
    "plt.figure(1)\n",
    "lw = 2\n",
    "plt.plot(fpr_dt, tpr_dt,\n",
    "         lw=lw, label='Naive Bayes(AUC = %0.2f)' % roc_auc_dt)\n",
    "plt.plot([0, 1], [0, 1], color='navy', lw=lw, linestyle='--')\n",
    "\n",
    "plt.xlim([0.0, 1.0])\n",
    "plt.ylim([0.0, 1.05])\n",
    "plt.xlabel('False Positive Rate')\n",
    "plt.ylabel('True Positive Rate')\n",
    "plt.title('Area Under Curve')\n",
    "plt.legend(loc=\"lower right\")\n",
    "plt.show()\n"
   ]
  },
  {
   "cell_type": "markdown",
   "metadata": {
    "id": "gCdJvo9Fq4VX"
   },
   "source": [
    "# Modelling using Support Vector Machines"
   ]
  },
  {
   "cell_type": "code",
   "execution_count": null,
   "metadata": {
    "id": "eqXjn6QLq4VX"
   },
   "outputs": [],
   "source": [
    "from sklearn import svm\n",
    "\n",
    "#Initializing the SVM object with Linear kernel\n",
    "clf = svm.SVC(kernel='linear') "
   ]
  },
  {
   "cell_type": "code",
   "execution_count": null,
   "metadata": {
    "colab": {
     "base_uri": "https://localhost:8080/"
    },
    "id": "15nasg7wq4VX",
    "outputId": "ce3cfac8-c6fe-4651-eedc-6dda77601b85"
   },
   "outputs": [],
   "source": [
    "#Train the model using the training sets\n",
    "clf.fit(X_train, y_train)"
   ]
  },
  {
   "cell_type": "code",
   "execution_count": null,
   "metadata": {
    "id": "57Fszxo2q4VX"
   },
   "outputs": [],
   "source": [
    "#Predict the response for test dataset\n",
    "y_pred_svm = clf.predict(X_test)"
   ]
  },
  {
   "cell_type": "code",
   "execution_count": null,
   "metadata": {
    "colab": {
     "base_uri": "https://localhost:8080/"
    },
    "id": "bFVtzqTrq4VX",
    "outputId": "5537916e-31b5-473d-e5c7-2e3095454264"
   },
   "outputs": [],
   "source": [
    "#Import scikit-learn metrics module for accuracy calculation\n",
    "from sklearn import metrics\n",
    "\n",
    "SVM_Accuracy = accuracy_score(y_test,y_pred_svm)*100\n",
    "\n",
    "# Model Accuracy: how often is the classifier correct?\n",
    "print(\"Accuracy:\",SVM_Accuracy)\n",
    "\n",
    "\n",
    "\n",
    "confusion_mat = confusion_matrix(y_test,y_pred_svm)\n",
    "\n",
    "correctly_classified_SVM = (list(confusion_mat)[0][0]+list(confusion_mat)[0][1])/len(y_test)*100\n",
    "incorrectly_classified_SVM = (list(confusion_mat)[1][0]+list(confusion_mat)[1][1])/len(y_test)*100\n",
    "\n",
    "\n",
    "roc_SVM = roc_auc_score(y_test,y_pred_svm)*100\n"
   ]
  },
  {
   "cell_type": "code",
   "execution_count": null,
   "metadata": {
    "colab": {
     "base_uri": "https://localhost:8080/"
    },
    "id": "PyAxiSSWq4VX",
    "outputId": "3c35a541-3942-4028-dea5-d43496874dd1"
   },
   "outputs": [],
   "source": [
    "# Model Precision: what percentage of positive tuples are labeled as such?\n",
    "print(\"Precision:\",metrics.precision_score(y_test, y_pred_svm))\n",
    "\n",
    "# Model Recall: what percentage of positive tuples are labelled as such?\n",
    "print(\"Recall:\",metrics.recall_score(y_test, y_pred_svm))"
   ]
  },
  {
   "cell_type": "code",
   "execution_count": null,
   "metadata": {},
   "outputs": [],
   "source": [
    "# Model Accuracy:\n",
    "print (\"Model Accuracy is::\", (accuracy_score(y_test,y_pred_svm))*100)\n",
    "# Recall\n",
    "print(\"Model recall is::\", (recall_score(y_test, y_pred_svm))*100)\n",
    "\n",
    "svm_Accuracy = accuracy_score(y_test,y_pred_svm)*100"
   ]
  },
  {
   "cell_type": "code",
   "execution_count": null,
   "metadata": {},
   "outputs": [],
   "source": []
  },
  {
   "cell_type": "code",
   "execution_count": null,
   "metadata": {
    "colab": {
     "base_uri": "https://localhost:8080/",
     "height": 295
    },
    "id": "X6h-OgxmwN6O",
    "outputId": "53ab4dd7-c4e5-4c3c-ef12-b7356b1ae6c7"
   },
   "outputs": [],
   "source": [
    "fpr_dt, tpr_dt, _ = roc_curve(y_test, y_pred_svm)\n",
    "roc_auc_dt = auc(fpr_dt, tpr_dt)\n",
    "plt.figure(1)\n",
    "lw = 2\n",
    "plt.plot(fpr_dt, tpr_dt,\n",
    "         lw=lw, label='Support Vector Machines(AUC = %0.2f)' % roc_auc_dt)\n",
    "plt.plot([0, 1], [0, 1], color='navy', lw=lw, linestyle='--')\n",
    "\n",
    "plt.xlim([0.0, 1.0])\n",
    "plt.ylim([0.0, 1.05])\n",
    "plt.xlabel('False Positive Rate')\n",
    "plt.ylabel('True Positive Rate')\n",
    "plt.title('Area Under Curve')\n",
    "plt.legend(loc=\"lower right\")\n",
    "plt.show()\n"
   ]
  },
  {
   "cell_type": "code",
   "execution_count": null,
   "metadata": {
    "colab": {
     "base_uri": "https://localhost:8080/",
     "height": 359
    },
    "id": "su-g0iVPFtvP",
    "outputId": "26c2219a-ef6b-4013-d227-2a4519914cec"
   },
   "outputs": [],
   "source": [
    "cm = confusion_matrix(y_test,y_pred_svm)\n",
    "classes = [\"0\",\"1\"]\n",
    "disp = ConfusionMatrixDisplay(confusion_matrix=cm,\n",
    "                              display_labels=classes)\n",
    "\n",
    "fig, ax = plt.subplots(figsize=(6,6))\n",
    "plt.title(\"Confusion Matrix (Logistic Regression)\")\n",
    "disp = disp.plot(ax=ax,cmap='Reds')\n",
    "plt.show()"
   ]
  },
  {
   "cell_type": "markdown",
   "metadata": {
    "id": "I7FV7C5lq4VX"
   },
   "source": [
    "# Modelling using IBK - K-neareast Neighbour"
   ]
  },
  {
   "cell_type": "code",
   "execution_count": null,
   "metadata": {
    "id": "iCAyVrjnq4VX"
   },
   "outputs": [],
   "source": [
    "# Import necessary modules for KNearest Neighbour\n",
    "from sklearn.neighbors import KNeighborsClassifier"
   ]
  },
  {
   "cell_type": "code",
   "execution_count": null,
   "metadata": {
    "id": "bUyQPe73q4VX"
   },
   "outputs": [],
   "source": [
    "#Initializing the KNN object with seven neighbours\n",
    "\n",
    "knn = KNeighborsClassifier(n_neighbors=7)"
   ]
  },
  {
   "cell_type": "code",
   "execution_count": null,
   "metadata": {
    "colab": {
     "base_uri": "https://localhost:8080/"
    },
    "id": "iPLLMUTZq4VX",
    "outputId": "f40b689d-0202-4591-d53c-f295b8aa3931"
   },
   "outputs": [],
   "source": [
    "#Train the model using the training sets\n",
    "knn.fit(X_train, y_train)"
   ]
  },
  {
   "cell_type": "code",
   "execution_count": null,
   "metadata": {
    "id": "jZTo7sL7q4VY"
   },
   "outputs": [],
   "source": [
    "#Predict the response for test dataset\n",
    "y_pred_knn = knn.predict(X_test)"
   ]
  },
  {
   "cell_type": "code",
   "execution_count": null,
   "metadata": {
    "colab": {
     "base_uri": "https://localhost:8080/"
    },
    "id": "OUXfeqf3q4VY",
    "outputId": "a362e2cd-781a-447f-ad07-5081e755c03d"
   },
   "outputs": [],
   "source": [
    "#Import scikit-learn metrics module for accuracy calculation\n",
    "from sklearn import metrics\n",
    "\n",
    "\n",
    "KNN_Accuracy = accuracy_score(y_test,y_pred_knn)*100\n",
    "\n",
    "# Model Accuracy: how often is the classifier correct?\n",
    "print(\"Accuracy:\",KNN_Accuracy)\n",
    "\n",
    "\n",
    "\n",
    "\n",
    "confusion_mat = confusion_matrix(y_test,y_pred_knn)\n",
    "\n",
    "correctly_classified_KNN = (list(confusion_mat)[0][0]+list(confusion_mat)[0][1])/len(y_test)*100\n",
    "incorrectly_classified_KNN = (list(confusion_mat)[1][0]+list(confusion_mat)[1][1])/len(y_test)*100\n",
    "\n",
    "\n",
    "roc_KNN = roc_auc_score(y_test,y_pred_knn)*100"
   ]
  },
  {
   "cell_type": "code",
   "execution_count": null,
   "metadata": {
    "colab": {
     "base_uri": "https://localhost:8080/"
    },
    "id": "SNBnjDhMq4VY",
    "outputId": "56b8383c-c7f6-4261-99e5-e2fb86c1dd94"
   },
   "outputs": [],
   "source": [
    "# Model Precision: what percentage of positive tuples are labeled as such?\n",
    "print(\"Precision:\",metrics.precision_score(y_test, y_pred_knn))\n",
    "\n",
    "# Model Recall: what percentage of positive tuples are labelled as such?\n",
    "print(\"Recall:\",metrics.recall_score(y_test, y_pred_knn))"
   ]
  },
  {
   "cell_type": "code",
   "execution_count": null,
   "metadata": {},
   "outputs": [],
   "source": [
    "# Model Accuracy:\n",
    "print (\"Model Accuracy is::\", (accuracy_score(y_test,y_pred_knn))*100)\n",
    "# Recall\n",
    "print(\"Model recall is::\", (recall_score(y_test, y_pred_knn))*100)\n",
    "\n",
    "knn_Accuracy = accuracy_score(y_test,y_pred_knn)*100"
   ]
  },
  {
   "cell_type": "code",
   "execution_count": null,
   "metadata": {},
   "outputs": [],
   "source": []
  },
  {
   "cell_type": "markdown",
   "metadata": {
    "id": "2Mlh0xYxq4VY"
   },
   "source": [
    "### Checking on the best neighbours for IBK - KNN"
   ]
  },
  {
   "cell_type": "code",
   "execution_count": null,
   "metadata": {
    "colab": {
     "base_uri": "https://localhost:8080/",
     "height": 280
    },
    "id": "Br-PDa-oq4VY",
    "outputId": "8db489fc-f807-4a99-a9d7-f14bbc128c48"
   },
   "outputs": [],
   "source": [
    "neighbors = np.arange(1, 9)\n",
    "train_accuracy = np.empty(len(neighbors))\n",
    "test_accuracy = np.empty(len(neighbors))\n",
    " \n",
    "# Loop over K values\n",
    "for i, k in enumerate(neighbors):\n",
    "    knn = KNeighborsClassifier(n_neighbors=k)\n",
    "    knn.fit(X_train, y_train)\n",
    "     \n",
    "    # Compute training and test data accuracy\n",
    "    train_accuracy[i] = knn.score(X_train, y_train)\n",
    "    test_accuracy[i] = knn.score(X_test, y_test)\n",
    " \n",
    " #Generate plot\n",
    "plt.plot(neighbors, test_accuracy, label = 'Testing dataset Accuracy')\n",
    "plt.plot(neighbors, train_accuracy, label = 'Training dataset Accuracy')\n",
    " \n",
    "plt.legend()\n",
    "plt.xlabel('n_neighbors')\n",
    "plt.ylabel('Accuracy')\n",
    "plt.show()"
   ]
  },
  {
   "cell_type": "code",
   "execution_count": null,
   "metadata": {
    "colab": {
     "base_uri": "https://localhost:8080/"
    },
    "id": "oi8i_1YGq4VY",
    "outputId": "307f79de-1d7f-4c91-ed83-e4defcd43030"
   },
   "outputs": [],
   "source": [
    "#Initializing the KNN object with seven neighbours\n",
    "\n",
    "knn = KNeighborsClassifier(n_neighbors=1)\n",
    "\n",
    "#Train the model using the training sets\n",
    "knn.fit(X_train, y_train)\n",
    "\n",
    "#Predict the response for test dataset\n",
    "y_pred_knn = knn.predict(X_test)\n",
    "\n",
    "KNN_Accuracy = accuracy_score(y_test,y_pred_knn)*100\n",
    "\n",
    "# Model Accuracy: how often is the classifier correct?\n",
    "print(\"Accuracy:\",KNN_Accuracy)\n",
    "\n",
    "\n",
    "\n",
    "# Model Precision: what percentage of positive tuples are labeled as such?\n",
    "print(\"Precision:\",metrics.precision_score(y_test, y_pred_knn))\n",
    "\n",
    "# Model Recall: what percentage of positive tuples are labelled as such?\n",
    "print(\"Recall:\",metrics.recall_score(y_test, y_pred_knn))\n",
    "\n",
    "\n",
    "# Model Recall: what percentage of positive tuples are labelled as such?\n",
    "print(\"F1 Score:\",metrics.f1_score(y_test, y_pred_knn))\n",
    "\n",
    "\n",
    "\n",
    "confusion_mat = confusion_matrix(y_test,y_pred_knn)\n",
    "\n",
    "correctly_classified_KNN = (list(confusion_mat)[0][0]+list(confusion_mat)[0][1])/len(y_test)*100\n",
    "incorrectly_classified_KNN = (list(confusion_mat)[1][0]+list(confusion_mat)[1][1])/len(y_test)*100\n",
    "\n",
    "roc_KNN = roc_auc_score(y_test,y_pred_knn)*100"
   ]
  },
  {
   "cell_type": "code",
   "execution_count": null,
   "metadata": {
    "colab": {
     "base_uri": "https://localhost:8080/",
     "height": 295
    },
    "id": "AXzLax73whwf",
    "outputId": "965381b0-2ffd-40b9-bc36-dff7295c4d44"
   },
   "outputs": [],
   "source": [
    "fpr_dt, tpr_dt, _ = roc_curve(y_test, y_pred_knn)\n",
    "roc_auc_dt = auc(fpr_dt, tpr_dt)\n",
    "plt.figure(1)\n",
    "lw = 2\n",
    "plt.plot(fpr_dt, tpr_dt,\n",
    "         lw=lw, label='KNN(AUC = %0.2f)' % roc_auc_dt)\n",
    "plt.plot([0, 1], [0, 1], color='navy', lw=lw, linestyle='--')\n",
    "\n",
    "plt.xlim([0.0, 1.0])\n",
    "plt.ylim([0.0, 1.05])\n",
    "plt.xlabel('False Positive Rate')\n",
    "plt.ylabel('True Positive Rate')\n",
    "plt.title('Area Under Curve')\n",
    "plt.legend(loc=\"lower right\")\n",
    "plt.show()\n"
   ]
  },
  {
   "cell_type": "code",
   "execution_count": null,
   "metadata": {
    "colab": {
     "base_uri": "https://localhost:8080/",
     "height": 359
    },
    "id": "b8DC4ZxJF4x7",
    "outputId": "f72c4d0d-0fce-45ca-b0fb-852dc42711c9"
   },
   "outputs": [],
   "source": [
    "cm = confusion_matrix(y_test,y_pred_knn)\n",
    "classes = [\"0\",\"1\"]\n",
    "disp = ConfusionMatrixDisplay(confusion_matrix=cm,\n",
    "                              display_labels=classes)\n",
    "\n",
    "fig, ax = plt.subplots(figsize=(6,6))\n",
    "plt.title(\"Confusion Matrix (Logistic Regression)\")\n",
    "disp = disp.plot(ax=ax,cmap='Reds')\n",
    "plt.show()"
   ]
  },
  {
   "cell_type": "markdown",
   "metadata": {
    "id": "C-5gHJQ0q4VY"
   },
   "source": [
    "# Modelling using AdaBoost Classifier"
   ]
  },
  {
   "cell_type": "code",
   "execution_count": null,
   "metadata": {
    "id": "K4w4jZGzq4VY"
   },
   "outputs": [],
   "source": [
    "# Load libraries\n",
    "from sklearn.ensemble import AdaBoostClassifier"
   ]
  },
  {
   "cell_type": "code",
   "execution_count": null,
   "metadata": {
    "id": "xLlsGkTJq4VY"
   },
   "outputs": [],
   "source": [
    "# Create adaboost classifer object\n",
    "abc = AdaBoostClassifier(n_estimators=50,\n",
    "                         learning_rate=1)\n",
    "# Train Adaboost Classifer\n",
    "model = abc.fit(X_train, y_train)\n",
    "\n",
    "#Predict the response for test dataset\n",
    "y_pred_ada = model.predict(X_test)"
   ]
  },
  {
   "cell_type": "code",
   "execution_count": null,
   "metadata": {
    "colab": {
     "base_uri": "https://localhost:8080/"
    },
    "id": "sIxEUXNKq4VY",
    "outputId": "72630fe2-597c-4791-d85e-eb700b5745d0"
   },
   "outputs": [],
   "source": [
    "# Model Accuracy, how often is the classifier correct?\n",
    "\n",
    "ADA_Accuracy = accuracy_score(y_test,y_pred_ada)*100\n",
    "\n",
    "print(\"Accuracy:\",ADA_Accuracy)"
   ]
  },
  {
   "cell_type": "code",
   "execution_count": null,
   "metadata": {
    "colab": {
     "base_uri": "https://localhost:8080/"
    },
    "id": "7s-PODIFq4VY",
    "outputId": "f98d96ba-1450-45d5-9352-34bd0eee8551"
   },
   "outputs": [],
   "source": [
    "\n",
    "\n",
    "# Model Precision: what percentage of positive tuples are labeled as such?\n",
    "print(\"Precision:\",metrics.precision_score(y_test, y_pred_ada))\n",
    "\n",
    "# Model Recall: what percentage of positive tuples are labelled as such?\n",
    "print(\"Recall:\",metrics.recall_score(y_test, y_pred_ada))\n",
    "\n",
    "\n",
    "# Model Recall: what percentage of positive tuples are labelled as such?\n",
    "print(\"F1 Score:\",metrics.f1_score(y_test, y_pred_ada))\n",
    "\n",
    "\n",
    "\n",
    "confusion_mat = confusion_matrix(y_test,y_pred_ada)\n",
    "\n",
    "correctly_classified_ADA = (list(confusion_mat)[0][0]+list(confusion_mat)[0][1])/len(y_test)*100\n",
    "incorrectly_classified_ADA = (list(confusion_mat)[1][0]+list(confusion_mat)[1][1])/len(y_test)*100\n",
    "\n",
    "roc_ADA = roc_auc_score(y_test,y_pred_ada)*100"
   ]
  },
  {
   "cell_type": "code",
   "execution_count": null,
   "metadata": {},
   "outputs": [],
   "source": [
    "# Model Accuracy:\n",
    "print (\"Model Accuracy is::\", (accuracy_score(y_test,y_pred_ada))*100)\n",
    "# Recall\n",
    "print(\"Model recall is::\", (recall_score(y_test, y_pred_ada))*100)\n",
    "\n",
    "ada_Accuracy = accuracy_score(y_test,y_pred_ada)*100"
   ]
  },
  {
   "cell_type": "code",
   "execution_count": null,
   "metadata": {},
   "outputs": [],
   "source": []
  },
  {
   "cell_type": "code",
   "execution_count": null,
   "metadata": {
    "colab": {
     "base_uri": "https://localhost:8080/",
     "height": 295
    },
    "id": "GAsLFBQWwl3P",
    "outputId": "902e6d64-7b82-4e3c-b685-41fe2f9d41ab"
   },
   "outputs": [],
   "source": [
    "fpr_dt, tpr_dt, _ = roc_curve(y_test, y_pred_ada)\n",
    "roc_auc_dt = auc(fpr_dt, tpr_dt)\n",
    "plt.figure(1)\n",
    "lw = 2\n",
    "plt.plot(fpr_dt, tpr_dt,\n",
    "         lw=lw, label='Adaboost(AUC = %0.2f)' % roc_auc_dt)\n",
    "plt.plot([0, 1], [0, 1], color='navy', lw=lw, linestyle='--')\n",
    "\n",
    "plt.xlim([0.0, 1.0])\n",
    "plt.ylim([0.0, 1.05])\n",
    "plt.xlabel('False Positive Rate')\n",
    "plt.ylabel('True Positive Rate')\n",
    "plt.title('Area Under Curve')\n",
    "plt.legend(loc=\"lower right\")\n",
    "plt.show()\n"
   ]
  },
  {
   "cell_type": "code",
   "execution_count": null,
   "metadata": {
    "colab": {
     "base_uri": "https://localhost:8080/",
     "height": 359
    },
    "id": "EA_SIMTcF8fg",
    "outputId": "b547a938-67fb-4767-811e-9d927fd1905c"
   },
   "outputs": [],
   "source": [
    "cm = confusion_matrix(y_test,y_pred_ada)\n",
    "classes = [\"0\",\"1\"]\n",
    "disp = ConfusionMatrixDisplay(confusion_matrix=cm,\n",
    "                              display_labels=classes)\n",
    "\n",
    "fig, ax = plt.subplots(figsize=(6,6))\n",
    "plt.title(\"Confusion Matrix (Logistic Regression)\")\n",
    "disp = disp.plot(ax=ax,cmap='Reds')\n",
    "plt.show()"
   ]
  },
  {
   "cell_type": "markdown",
   "metadata": {
    "id": "fhoBUpcGq4VY"
   },
   "source": [
    "**bold text**## Plotting Correctly classified and incorrectly classified instances"
   ]
  },
  {
   "cell_type": "markdown",
   "metadata": {
    "id": "yhoDOBCgVRBS"
   },
   "source": [
    "# Modelling using Neural Network (Deep & Shallow)"
   ]
  },
  {
   "cell_type": "code",
   "execution_count": null,
   "metadata": {
    "id": "b-vtR9w2VRBS"
   },
   "outputs": [],
   "source": [
    "# ann and dl libraraies\n",
    "from keras import backend as K\n",
    "from tensorflow.keras.models import Sequential\n",
    "from tensorflow.keras.layers import Dense\n",
    "from tensorflow.keras.optimizers import Adam,SGD,Adagrad,Adadelta,RMSprop\n",
    "from tensorflow.keras.utils import to_categorical\n",
    "\n",
    "\n",
    "from sklearn.model_selection import GridSearchCV\n",
    "from keras.wrappers.scikit_learn import KerasClassifier\n",
    "from keras.models import Sequential\n",
    "from keras.layers import Dense,Dropout\n",
    "from keras.layers import LeakyReLU\n",
    "\n",
    "import random as rn"
   ]
  },
  {
   "cell_type": "code",
   "execution_count": null,
   "metadata": {
    "id": "PSlsQdlBVRBS"
   },
   "outputs": [],
   "source": [
    "#Function for Shallo Neural Network\n",
    "def create_model_shallow(optimizer,loss):\n",
    "    # create model\n",
    "    model = Sequential()\n",
    "    model.add(Dense(200, activation='sigmoid'))\n",
    "    model.add(Dropout(0.2))\n",
    "    model.add(Dense(50, activation='sigmoid')) #Have only one hidden layer\n",
    "    model.add(Dropout(0.2))\n",
    "    model.add(Dense(1, activation='sigmoid')) # Since it has 2 outputs, 'sigmoid' as activation in the output layer\n",
    "    # Compile model\n",
    "    model.compile(loss=loss, optimizer=optimizer,metrics=[\"accuracy\"])\n",
    "    return model\n"
   ]
  },
  {
   "cell_type": "code",
   "execution_count": null,
   "metadata": {
    "colab": {
     "base_uri": "https://localhost:8080/",
     "height": 330
    },
    "id": "Q1w0iElhVRBS",
    "outputId": "26295f67-9fb4-45a1-8249-1d094e03bad9"
   },
   "outputs": [],
   "source": [
    "#Applying SHALLOW NN with Adam Optimzer, binary_crossentropy and with epoch size of 100\n",
    "\n",
    "shallow_model_adam = create_model_shallow(optimizer='adam', loss = 'binary_crossentropy') \n",
    "\n",
    "train=shallow_model_adam.fit(X_train, y_train, epochs=100, batch_size=100, verbose=0,validation_data=(X_test,y_test))\n",
    "\n",
    "\n",
    "#Accuracy for Shallow Neural Network\n",
    "train_acc = shallow_model_adam.evaluate(X_train, y_train, verbose=0)\n",
    "test_acc = shallow_model_adam.evaluate(X_test, y_test, verbose=0)\n",
    "\n",
    "print(\"Training score: \",round(train_acc[1]*100,2))\n",
    "print(\"Testing score: \",round(test_acc[1]*100,2))\n",
    "\n",
    "\n",
    "\n",
    "# plot loss during training\n",
    "import matplotlib.pyplot as plt\n",
    "plt.plot(train.history['loss'], label='Training loss')\n",
    "plt.plot(train.history['val_loss'], label='Validation Loss')\n",
    "plt.plot(train.history['accuracy'],label='Training Accuracy')\n",
    "plt.plot(train.history['val_accuracy'],label='Testing Accuracy')\n",
    "plt.title('Training and Validation Loss - Shallow NN')\n",
    "plt.xlabel('epochs')\n",
    "plt.ylabel('loss values')\n",
    "plt.legend(loc='upper right')\n",
    "plt.show()\n"
   ]
  },
  {
   "cell_type": "code",
   "execution_count": null,
   "metadata": {
    "id": "qW2c3SGYw7Hc"
   },
   "outputs": [],
   "source": [
    "y_pred_snn = shallow_model_adam.predict(X_test)\n",
    "y_pred_prob_snn = (y_pred_snn >= 0.7)\n",
    "\n",
    "\n",
    "\n"
   ]
  },
  {
   "cell_type": "code",
   "execution_count": null,
   "metadata": {
    "colab": {
     "base_uri": "https://localhost:8080/"
    },
    "id": "7PbFNsRry-Pe",
    "outputId": "567af56b-904f-44d5-eda0-c4ce7c984b9e"
   },
   "outputs": [],
   "source": [
    "y_pred_snn = shallow_model_adam.predict(X_test)\n",
    "y_pred_prob_snn = (y_pred_snn >= 0.7)\n",
    "\n",
    "NN_Accuracy = accuracy_score(y_test,y_pred_prob_snn)*100\n",
    "\n",
    "# Model Accuracy: how often is the classifier correct?\n",
    "print(\"Accuracy:\",NN_Accuracy)\n",
    "\n",
    "\n",
    "confusion_mat_NN = confusion_matrix(y_test,y_pred_prob_snn)\n",
    "\n",
    "correctly_classified_NN = (list(confusion_mat_NN)[0][0]+list(confusion_mat_NN)[0][1])/len(y_test)*100\n",
    "incorrectly_classified_NN = (list(confusion_mat_NN)[1][0]+list(confusion_mat_NN)[1][1])/len(y_test)*100\n",
    "\n",
    "roc_NN = roc_auc_score(y_test,y_pred_snn)*100\n",
    "\n"
   ]
  },
  {
   "cell_type": "code",
   "execution_count": null,
   "metadata": {
    "id": "X1YicVYAXY7q"
   },
   "outputs": [],
   "source": [
    "#Function for Deep Neural Network\n",
    "def create_model_deep(optimizer,loss):\n",
    "    # create model\n",
    "    model = Sequential()\n",
    "    model.add(Dense(200, activation='sigmoid'))\n",
    "    model.add(Dense(50,  activation='sigmoid'))\n",
    "    model.add(Dense(50,  activation='sigmoid'))\n",
    "    model.add(Dense(1,   activation='sigmoid')) # Since it has 2 outputs, 'sigmoid' as activation in the output layer\n",
    "    # Compile model\n",
    "    model.compile(loss=loss, optimizer=optimizer,metrics=[\"accuracy\"])\n",
    "    return model"
   ]
  },
  {
   "cell_type": "code",
   "execution_count": null,
   "metadata": {
    "colab": {
     "base_uri": "https://localhost:8080/",
     "height": 330
    },
    "id": "t8wEXijhbSVh",
    "outputId": "d6dce0f4-1021-43fb-ee2a-61e0fca18365"
   },
   "outputs": [],
   "source": [
    "#Applying DEEP NN with Adam Optimzer, binary_crossentropy and with epoch size of 100\n",
    "\n",
    "deep_model_adam = create_model_deep(optimizer='adam', loss = 'binary_crossentropy') \n",
    "\n",
    "train=deep_model_adam.fit(X_train, y_train, epochs=100, batch_size=100, verbose=0,validation_data=(X_test,y_test))\n",
    "\n",
    "\n",
    "#Accuracy for Shallow Neural Network\n",
    "train_acc = deep_model_adam.evaluate(X_train, y_train, verbose=0)\n",
    "test_acc = deep_model_adam.evaluate(X_test, y_test, verbose=0)\n",
    "\n",
    "print(\"Training score: \",round(train_acc[1]*100,2))\n",
    "print(\"Testing score: \",round(test_acc[1]*100,2))\n",
    "\n",
    "\n",
    "# plot loss during training\n",
    "import matplotlib.pyplot as plt\n",
    "plt.plot(train.history['loss'], label='Training loss')\n",
    "plt.plot(train.history['val_loss'], label='Validation Loss')\n",
    "plt.plot(train.history['accuracy'],label='Training Accuracy')\n",
    "plt.plot(train.history['val_accuracy'],label='Testing Accuracy')\n",
    "plt.title('Training and Validation Loss - DEEP NN')\n",
    "plt.xlabel('epochs')\n",
    "plt.ylabel('loss values')\n",
    "plt.legend(loc='upper right')\n",
    "plt.show()\n"
   ]
  },
  {
   "cell_type": "code",
   "execution_count": null,
   "metadata": {
    "id": "JX2dOBqMXgLl"
   },
   "outputs": [],
   "source": [
    "### Neural Network with GridSearchCV"
   ]
  },
  {
   "cell_type": "code",
   "execution_count": null,
   "metadata": {
    "colab": {
     "base_uri": "https://localhost:8080/"
    },
    "id": "0EVURJbrYUCk",
    "outputId": "9b225795-0bcf-4696-de45-2158732b3a2a"
   },
   "outputs": [],
   "source": [
    "# Grid Search Cross Validation\n",
    "# GridSearch Cross Validation Parameters\n",
    "param_grid = {\n",
    "   \n",
    "    'epochs': [50,100,150],\n",
    "    'batch_size':[32,100,128],\n",
    "    'optimizer':['RMSprop', 'Adam','SGD'],\n",
    "    'loss' : ['mean_squared_error','binary_crossentropy']\n",
    "}\n",
    "\n",
    "# create model\n",
    "\n",
    "# Creating Model Object with KerasClassifier\n",
    "model_cv = KerasClassifier(build_fn=create_model_deep, verbose=0)\n",
    "\n",
    "\n",
    "grid = GridSearchCV(estimator=model_cv,  \n",
    "                    n_jobs=-1, \n",
    "                    verbose=1,\n",
    "                    cv=5,\n",
    "                    param_grid=param_grid)\n",
    "\n",
    "grid_cv_model = grid.fit(X_train, y_train,) # Fitting the GridSearch Object on the Train Set\n",
    "\n",
    "\n",
    "means = grid_cv_model.cv_results_['mean_test_score'] # Mean of test scores\n",
    "stds = grid_cv_model.cv_results_['std_test_score'] # standard deviations of test scores\n",
    "params = grid_cv_model.cv_results_['params'] # parameters used\n",
    "# to print all scores, standard deviations and parameters used\n",
    "for mean, stdev, param in zip(means, stds, params):\n",
    "    print(\"%f (%f) with: %r\" % (mean, stdev, param))\n",
    "\n",
    "# Printing the Best Parameters as a Result of Grid Search Cross Validation on the Screen\n",
    "print(\"Best: %f using %s\" % (grid_cv_model.best_score_, grid_cv_model.best_params_))"
   ]
  },
  {
   "cell_type": "code",
   "execution_count": null,
   "metadata": {
    "id": "PL4JKUsnhHTK"
   },
   "outputs": [],
   "source": [
    "# %% Model Tuning- Building a Tuned Model with Best Parameters\n",
    "# Creating Tuned Model Object with KerasClassifier\n",
    "cv_model = grid_cv_model.best_estimator_"
   ]
  },
  {
   "cell_type": "code",
   "execution_count": null,
   "metadata": {
    "id": "E_CM9lw8kVc0"
   },
   "outputs": [],
   "source": [
    "# Tuned Model Prediction\n",
    "\n",
    "y_pred_nn = cv_model.predict(X_test)"
   ]
  },
  {
   "cell_type": "code",
   "execution_count": null,
   "metadata": {
    "colab": {
     "base_uri": "https://localhost:8080/"
    },
    "id": "mc13FuNYkcj9",
    "outputId": "60783418-fef7-4bb7-c30e-bcabf8d919ec"
   },
   "outputs": [],
   "source": [
    "import sklearn.metrics as metrics\n",
    "print(\"f1_weighted:\",metrics.f1_score(y_test, y_pred_nn,average='weighted'))\n",
    "# %% Accuracy\n",
    "print(\"accuracy:\",metrics.accuracy_score(y_test, y_pred_nn))"
   ]
  },
  {
   "cell_type": "code",
   "execution_count": null,
   "metadata": {
    "colab": {
     "base_uri": "https://localhost:8080/"
    },
    "id": "U9JfNQT_khRy",
    "outputId": "a65fb5a9-549f-4bef-826e-a8a3ab1ce15a"
   },
   "outputs": [],
   "source": [
    "from sklearn.metrics import classification_report\n",
    "\n",
    "# Classification Report\n",
    "model_report = classification_report(y_test, y_pred_nn)\n",
    "print(model_report)"
   ]
  },
  {
   "cell_type": "code",
   "execution_count": null,
   "metadata": {
    "colab": {
     "base_uri": "https://localhost:8080/"
    },
    "id": "tbek5BPRzc4u",
    "outputId": "6b474e85-ce43-4f13-850a-b8feb945621b"
   },
   "outputs": [],
   "source": [
    "#y_pred = shallow_model_adam.predict(X_test)\n",
    "y_pred_prob_nn = (y_pred_nn >= 0.7)\n",
    "\n",
    "NN_Accuracy = accuracy_score(y_test,y_pred_prob_nn)*100\n",
    "\n",
    "# Model Accuracy: how often is the classifier correct?\n",
    "print(\"Accuracy:\",NN_Accuracy)\n",
    "\n",
    "\n",
    "confusion_mat = confusion_matrix(y_test,y_pred_prob_nn)\n",
    "\n",
    "correctly_classified_NN = (list(confusion_mat)[0][0]+list(confusion_mat)[0][1])/len(y_test)*100\n",
    "incorrectly_classified_NN = (list(confusion_mat)[1][0]+list(confusion_mat)[1][1])/len(y_test)*100\n",
    "\n",
    "roc_NN = roc_auc_score(y_test,y_pred_prob_nn)*100\n"
   ]
  },
  {
   "cell_type": "code",
   "execution_count": null,
   "metadata": {
    "id": "DuY8mygakk5t"
   },
   "outputs": [],
   "source": [
    "#print(grid_cv_model.cv_results_)"
   ]
  },
  {
   "cell_type": "markdown",
   "metadata": {
    "id": "Lawf4fkukq2Y"
   },
   "source": [
    "## Plotting Correctly classified and incorrectly classified instances"
   ]
  },
  {
   "cell_type": "code",
   "execution_count": null,
   "metadata": {},
   "outputs": [],
   "source": [
    "#Plotting accuracy of different models:\n",
    "\n",
    "y = ['Random Forest',          'Decision Tree',           'Naive Bayes',             'Logistic Regression',       'KNN',                     'AdaBoost Classifier',       'SVM',   'Neural Network']\n",
    "X1 = [RF_Accuracy,   DT_Accuracy,   NB_Accuracy,   LR_Accuracy,   KNN_Accuracy,   ADA_Accuracy,   SVM_Accuracy, NN_Accuracy]\n",
    "X2 = [100-RF_Accuracy,   100-DT_Accuracy,   100-NB_Accuracy,   100-LR_Accuracy,   100-KNN_Accuracy,   100-ADA_Accuracy,   100-SVM_Accuracy, 100-NN_Accuracy]\n",
    "\n",
    "\n",
    "\n",
    "fig, ax = plt.subplots(figsize=(15,7))\n",
    "X_axis = np.arange(len(X))\n",
    "\n",
    "  \n",
    "plt.bar(X_axis - 0.2, y1, 0.5, label = 'Correctly Classified', color = 'blue')\n",
    "plt.bar(X_axis + 0.2, y2, 0.5, label = 'Incorrectly Classified', color = 'yellow')\n",
    "  \n",
    "    \n",
    "plt.xticks(X_axis, X)\n",
    "plt.ylabel('Accuracy')\n",
    "plt.xlabel(\"Classification Model Used\")\n",
    "plt.title(\"Model True Positive and False Positive Comparison\")\n",
    "plt.legend()\n",
    "plt.show()\n",
    "    \n",
    "    "
   ]
  },
  {
   "cell_type": "code",
   "execution_count": null,
   "metadata": {
    "colab": {
     "base_uri": "https://localhost:8080/",
     "height": 476
    },
    "id": "2_xlNSYoSDZh",
    "outputId": "a4325b4a-5fdc-4f79-ae3a-1b554af271a2"
   },
   "outputs": [],
   "source": [
    "#Plotting accuracy of different models:\n",
    "\n",
    "X = ['Random Forest',          'Decision Tree',           'Naive Bayes',             'Logistic Regression',       'KNN',                     'AdaBoost Classifier',       'SVM',   'Neural Network']\n",
    "y1 = [RF_Accuracy,   DT_Accuracy,   NB_Accuracy,   LR_Accuracy,   KNN_Accuracy,   ADA_Accuracy,   SVM_Accuracy, NN_Accuracy]\n",
    "\n",
    "\n",
    "fig, ax = plt.subplots(figsize=(15,7))\n",
    "X_axis = np.arange(len(X))\n",
    "\n",
    "  \n",
    "plt.barh(X_axis - 0.2, y1, 0.5,color = 'grey')\n",
    "\n",
    "    \n",
    "plt.yticks(X_axis, X)\n",
    "plt.xlabel(\"Accuracy\")\n",
    "plt.ylabel(\"Classification Model Used\")\n",
    "plt.title(\"Model Accuracy Comparison\")\n",
    "plt.legend()\n",
    "plt.show()\n",
    "    \n",
    "    "
   ]
  },
  {
   "cell_type": "code",
   "execution_count": null,
   "metadata": {
    "colab": {
     "base_uri": "https://localhost:8080/",
     "height": 458
    },
    "id": "QOuphr4zk-kQ",
    "outputId": "0c50b57c-cf57-4d83-cc45-5b917dfeff2a"
   },
   "outputs": [],
   "source": [
    "#Plotting accuracy of different models:\n",
    "\n",
    "X = ['Random Forest',          'Decision Tree',           'Naive Bayes',             'Logistic Regression',       'KNN',                     'AdaBoost Classifier',       'SVM',   'Neural Network']\n",
    "y1 = [RF_Accuracy,   DT_Accuracy,   NB_Accuracy,   LR_Accuracy,   KNN_Accuracy,   ADA_Accuracy,   SVM_Accuracy, NN_Accuracy]\n",
    "y2 = [100-RF_Accuracy,   100-DT_Accuracy,   100-NB_Accuracy,   100-LR_Accuracy,   100-KNN_Accuracy,   100-ADA_Accuracy,   100-SVM_Accuracy, 100-NN_Accuracy]\n",
    "\n",
    "\n",
    "\n",
    "fig, ax = plt.subplots(figsize=(15,7))\n",
    "X_axis = np.arange(len(X))\n",
    "\n",
    "  \n",
    "plt.barh(X_axis - 0.2, y1, 0.5, label = 'Correctly Classified')\n",
    "plt.barh(X_axis + 0.2, y2, 0.5, label = 'Incorrectly Classified')\n",
    "  \n",
    "    \n",
    "plt.yticks(X_axis, X)\n",
    "plt.xlabel('Accuracy')\n",
    "plt.ylabel(\"Classification Model Used\")\n",
    "plt.title(\"Model True Positive and False Positive Comparison\")\n",
    "plt.legend()\n",
    "plt.show()\n",
    "    \n",
    "    "
   ]
  },
  {
   "cell_type": "code",
   "execution_count": null,
   "metadata": {
    "id": "CobWeD4pz98s"
   },
   "outputs": [],
   "source": [
    "# Plotting comparison of ROC score of models used"
   ]
  },
  {
   "cell_type": "code",
   "execution_count": null,
   "metadata": {
    "colab": {
     "base_uri": "https://localhost:8080/",
     "height": 458
    },
    "id": "Rzt1ZX290H5s",
    "outputId": "6110bbd6-85d7-4c28-97d2-9c35266e276c"
   },
   "outputs": [],
   "source": [
    "\n",
    "X = ['Random Forest','Decision Tree','Naive Bayes', 'Logistic Regression','KNN','AdaBoost Classifier','SVM','Neural Network']\n",
    "y = [ roc_RF,roc_DT, roc_NB,roc_LR, roc_KNN,roc_ADA,roc_SVM, roc_NN]\n",
    "\n",
    "\n",
    "fig, ax = plt.subplots(figsize=(15,7))\n",
    "plt.plot(X,y)\n",
    "plt.xlabel(\"Classification Models used\")\n",
    "plt.ylabel(\"ROC Score\")\n",
    "plt.title(\"ROC Score Comparison\")\n",
    "plt.show()  # show first chart"
   ]
  },
  {
   "cell_type": "code",
   "execution_count": null,
   "metadata": {
    "id": "s0srvV5I-g8V"
   },
   "outputs": [],
   "source": [
    "#Plotting accuracy of different models:\n",
    "\n",
    "y = ['Random Forest',          'Decision Tree',           'Naive Bayes',             'Logistic Regression',       'KNN',                     'AdaBoost Classifier',       'SVM',   'Neural Network']\n",
    "X1 = [RF_Accuracy,   DT_Accuracy,   NB_Accuracy,   LR_Accuracy,   KNN_Accuracy,   ADA_Accuracy,   SVM_Accuracy, NN_Accuracy]\n",
    "X2 = [100-RF_Accuracy,   100-DT_Accuracy,   100-NB_Accuracy,   100-LR_Accuracy,   100-KNN_Accuracy,   100-ADA_Accuracy,   100-SVM_Accuracy, 100-NN_Accuracy]\n",
    "\n",
    "\n",
    "\n",
    "fig, ax = plt.subplots(figsize=(15,7))\n",
    "X_axis = np.arange(len(X))\n",
    "\n",
    "  \n",
    "plt.bar(X_axis - 0.2, y1, 0.5, label = 'Correctly Classified', color = 'blue')\n",
    "plt.bar(X_axis + 0.2, y2, 0.5, label = 'Incorrectly Classified', color = 'yellow')\n",
    "  \n",
    "    \n",
    "plt.xticks(X_axis, X)\n",
    "plt.ylabel('Accuracy')\n",
    "plt.xlabel(\"Classification Model Used\")\n",
    "plt.title(\"Model True Positive and False Positive Comparison\")\n",
    "plt.legend()\n",
    "plt.show()\n",
    "    \n",
    "\n"
   ]
  },
  {
   "cell_type": "code",
   "execution_count": null,
   "metadata": {
    "id": "n3QgcZcS-kqe"
   },
   "outputs": [],
   "source": [
    "#Plotting accuracy of different models:\n",
    "\n",
    "y = ['Random Forest',          'Decision Tree',           'Naive Bayes',             'Logistic Regression',       'KNN',                     'AdaBoost Classifier',       'SVM',   'Neural Network']\n",
    "X1 = [RF_Accuracy,   DT_Accuracy,   NB_Accuracy,   LR_Accuracy,   KNN_Accuracy,   ADA_Accuracy,   SVM_Accuracy, NN_Accuracy]\n",
    "\n",
    "\n",
    "fig, ax = plt.subplots(figsize=(15,7))\n",
    "X_axis = np.arange(len(X))\n",
    "\n",
    "  \n",
    "plt.bar(X_axis - 0.2, y1, 0.5,color = 'green', label = 'Model Accuracy')\n",
    "\n",
    "    \n",
    "plt.xticks(X_axis, X)\n",
    "plt.ylabel(\"Accuracy\")\n",
    "plt.xlabel(\"Classification Model Used\")\n",
    "plt.title(\"Model Accuracy Comparison\")\n",
    "plt.legend()\n",
    "plt.show()\n",
    "    \n",
    "    "
   ]
  },
  {
   "cell_type": "code",
   "execution_count": null,
   "metadata": {},
   "outputs": [],
   "source": [
    "sns.pairplot(data_cap)"
   ]
  },
  {
   "cell_type": "code",
   "execution_count": null,
   "metadata": {},
   "outputs": [],
   "source": [
    "encoded_cap_data"
   ]
  },
  {
   "cell_type": "code",
   "execution_count": null,
   "metadata": {},
   "outputs": [],
   "source": [
    "sns.pairplot(encoded_cap_data)"
   ]
  },
  {
   "cell_type": "code",
   "execution_count": null,
   "metadata": {},
   "outputs": [],
   "source": []
  }
 ],
 "metadata": {
  "accelerator": "TPU",
  "colab": {
   "collapsed_sections": [],
   "name": "HR_Attrition_Analysis_and_Modelling.ipynb",
   "provenance": []
  },
  "kernelspec": {
   "display_name": "Python 3",
   "language": "python",
   "name": "python3"
  },
  "language_info": {
   "codemirror_mode": {
    "name": "ipython",
    "version": 3
   },
   "file_extension": ".py",
   "mimetype": "text/x-python",
   "name": "python",
   "nbconvert_exporter": "python",
   "pygments_lexer": "ipython3",
   "version": "3.7.6"
  }
 },
 "nbformat": 4,
 "nbformat_minor": 1
}
